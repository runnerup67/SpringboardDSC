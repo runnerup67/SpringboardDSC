{
 "cells": [
  {
   "cell_type": "markdown",
   "metadata": {},
   "source": [
    "## SQL PROJECT"
   ]
  },
  {
   "cell_type": "markdown",
   "metadata": {},
   "source": [
    "Question 1:\n",
    "\n",
    "Some of the facilities charge a fee to members, but some do not.\n",
    "Please list the names of the facilities that do."
   ]
  },
  {
   "cell_type": "markdown",
   "metadata": {},
   "source": [
    "Answer 1:\n",
    "\n",
    "Query: \n",
    "\n",
    "SELECT DISTINCT name\t\n",
    "FROM country_club.Facilities\n",
    "WHERE membercost >0\n",
    "\n",
    "Result:\n",
    "\n",
    "name\n",
    "Tennis Court 1\n",
    "Tennis Court 2\n",
    "Massage Room 1\n",
    "Massage Room 2\n",
    "Squash Court"
   ]
  },
  {
   "cell_type": "markdown",
   "metadata": {},
   "source": [
    "Question 2:\n",
    "\n",
    "How many facilities do not charge a fee to members?"
   ]
  },
  {
   "cell_type": "markdown",
   "metadata": {},
   "source": [
    "Answer 2:\n",
    "\n",
    "Query:\n",
    "\n",
    "SELECT COUNT( DISTINCT name )\n",
    "FROM country_club.Facilities\n",
    "WHERE membercost <=0\n",
    "\n",
    "Result:\n",
    "\n",
    "COUNT( DISTINCT name )\n",
    "4"
   ]
  },
  {
   "cell_type": "markdown",
   "metadata": {},
   "source": [
    "Question 3:\n",
    "\n",
    "How can you produce a list of facilities that charge a fee to members,\n",
    "where the fee is less than 20% of the facility's monthly maintenance cost?\n",
    "Return the facid, facility name, member cost, and monthly maintenance of the\n",
    "facilities in question."
   ]
  },
  {
   "cell_type": "markdown",
   "metadata": {},
   "source": [
    "Answer 3:\n",
    "\n",
    "Query:\n",
    "\n",
    "SELECT facid, name, membercost, monthlymaintenance\n",
    "FROM country_club.Facilities\n",
    "WHERE membercost <20 /100 * monthlymaintenance\n",
    "AND membercost >0\n",
    "\n",
    "Result:\n",
    "\n",
    "facid\t    name\t    membercost\t  monthlymaintenance\t\n",
    "0\t    Tennis Court 1\t   5.0\t           200\n",
    "1\t    Tennis Court 2\t   5.0\t           200\n",
    "4\t    Massage Room 1\t   9.9\t           3000\n",
    "5\t    Massage Room 2\t   9.9\t           3000\n",
    "6\t    Squash Court\t   3.5\t           80"
   ]
  },
  {
   "cell_type": "markdown",
   "metadata": {},
   "source": [
    "Question 4:\n",
    "\n",
    "How can you retrieve the details of facilities with ID 1 and 5?\n",
    "Write the query without using the OR operator. "
   ]
  },
  {
   "cell_type": "markdown",
   "metadata": {},
   "source": [
    "Answer 4:\n",
    "\n",
    "Query: \n",
    "\n",
    "SELECT *\n",
    "FROM country_club.Facilities\n",
    "WHERE facid IN (1, 5)\n",
    "\n",
    "Result:\n",
    "\n",
    "facid\tname\t   membercost\tguestcost\tinitialoutlay\tmonthlymaintenance\t\n",
    "1\tTennis Court 2\t  5.0\t      25.0\t       8000\t            200\n",
    "5\tMassage Room 2\t  9.9\t      80.0\t       4000\t            3000"
   ]
  },
  {
   "cell_type": "markdown",
   "metadata": {},
   "source": [
    "Question 5:\n",
    "\n",
    "How can you produce a list of facilities, with each labelled as\n",
    "'cheap' or 'expensive', depending on if their monthly maintenance cost is\n",
    "more than $100? Return the name and monthly maintenance of the facilities\n",
    "in question."
   ]
  },
  {
   "cell_type": "markdown",
   "metadata": {},
   "source": [
    "Answer 5:\n",
    "\n",
    "Query:\n",
    "\n",
    "SELECT name, monthlymaintenance,\n",
    "CASE WHEN monthlymaintenance <=100\n",
    "THEN 'cheap'\n",
    "WHEN monthlymaintenance >100\n",
    "THEN 'expensive'\n",
    "ELSE NULL\n",
    "END AS value\n",
    "FROM country_club.Facilities\n",
    "\n",
    "\n",
    "Result:\n",
    "\n",
    " name\t           monthlymaintenance\t       value\t\n",
    "Tennis Court 1\t         200\t             expensive\n",
    "Tennis Court 2\t         200\t             expensive\n",
    "Badminton Court\t         50\t                 cheap\n",
    "Table Tennis\t         10\t                 cheap\n",
    "Massage Room 1\t         3000\t             expensive\n",
    "Massage Room 2\t         3000\t             expensive\n",
    "Squash Court\t         80\t                 cheap\n",
    "Snooker Table\t         15\t                 cheap\n",
    "Pool Table\t             15\t                 cheap\n"
   ]
  },
  {
   "cell_type": "markdown",
   "metadata": {},
   "source": [
    "Question 6:\n",
    "\n",
    "You'd like to get the first and last name of the last member(s)\n",
    "who signed up. Do not use the LIMIT clause for your solution."
   ]
  },
  {
   "cell_type": "markdown",
   "metadata": {},
   "source": [
    "Answer 6:\n",
    "\n",
    "Query:\n",
    "\n",
    "SELECT surname, firstname\n",
    "FROM country_club.Members\n",
    "WHERE joindate = (SELECT MAX( joindate )FROM country_club.Members )\n",
    "\n",
    "Result:\n",
    "\n",
    "surname\t   firstname\t\n",
    "Smith\t    Darren"
   ]
  },
  {
   "cell_type": "markdown",
   "metadata": {},
   "source": [
    "Question 7:\n",
    "\n",
    "How can you produce a list of all members who have used a tennis court?\n",
    "Include in your output the name of the court, and the name of the member\n",
    "formatted as a single column. Ensure no duplicate data, and order by\n",
    "the member name."
   ]
  },
  {
   "cell_type": "markdown",
   "metadata": {},
   "source": [
    "Answer 7:\n",
    "\n",
    "Query:\n",
    "\n",
    "SELECT DISTINCT CONCAT( mem.surname, ', ', mem.firstname ) AS member, fac.name AS facility\n",
    "FROM country_club.Members mem\n",
    "JOIN country_club.Bookings bks ON mem.memid = bks.memid\n",
    "JOIN country_club.Facilities fac ON fac.facid = bks.facid\n",
    "WHERE fac.name LIKE 'tennis%%'\n",
    "ORDER BY member\n",
    "\n",
    "Result:\n",
    "\n",
    "member\t                  facility\t\n",
    "Bader, Florence\t        Tennis Court 2\n",
    "Bader, Florence\t        Tennis Court 1\n",
    "Baker, Anne\t            Tennis Court 1\n",
    "Baker, Anne\t            Tennis Court 2\n",
    "Baker, Timothy\t        Tennis Court 2\n",
    "Baker, Timothy\t        Tennis Court 1\n",
    "Boothe, Tim\t            Tennis Court 1\n",
    "Boothe, Tim\t            Tennis Court 2\n",
    "Butters, Gerald\t        Tennis Court 1\n",
    "Butters, Gerald\t        Tennis Court 2\n",
    "Coplin, Joan\t        Tennis Court 1\n",
    "Crumpet, Erica\t        Tennis Court 1\n",
    "Dare, Nancy\t            Tennis Court 2\n",
    "Dare, Nancy\t            Tennis Court 1\n",
    "Farrell, David\t        Tennis Court 1\n",
    "Farrell, David\t        Tennis Court 2\n",
    "Farrell, Jemima\t        Tennis Court 1\n",
    "Farrell, Jemima\t        Tennis Court 2\n",
    "Genting, Matthew\t    Tennis Court 1\n",
    "GUEST, GUEST\t        Tennis Court 2\n",
    "GUEST, GUEST\t        Tennis Court 1\n",
    "Hunt, John\t            Tennis Court 1\n",
    "Hunt, John\t            Tennis Court 2\n",
    "Jones, David\t        Tennis Court 1\n",
    "Jones, David\t        Tennis Court 2\n",
    "Jones, Douglas\t        Tennis Court 1\n",
    "Joplette, Janice\t    Tennis Court 1\n",
    "Joplette, Janice\t    Tennis Court 2\n",
    "Owen, Charles\t        Tennis Court 1\n",
    "Owen, Charles\t        Tennis Court 2\n",
    "\n"
   ]
  },
  {
   "cell_type": "markdown",
   "metadata": {},
   "source": [
    "Question 8:\n",
    "\n",
    "How can you produce a list of bookings on the day of 2012-09-14 which\n",
    "will cost the member (or guest) more than $30? Remember that guests have\n",
    "different costs to members (the listed costs are per half-hour 'slot'), and\n",
    "the guest user's ID is always 0. Include in your output the name of the\n",
    "facility, the name of the member formatted as a single column, and the cost.\n",
    "Order by descending cost, and do not use any subqueries."
   ]
  },
  {
   "cell_type": "markdown",
   "metadata": {},
   "source": [
    "Answer 8:\n",
    "\n",
    "Query:\n",
    "\n",
    "SELECT distinct fac.name as Facility, concat(mem.surname,', ', mem.firstname) as Member, \n",
    "(fac.membercost + fac.guestcost * 2) as Cost\n",
    "FROM country_club.Bookings bks\n",
    "JOIN country_club.Facilities fac\n",
    "ON bks.facid = fac.facid\n",
    "JOIN country_club.Members mem\n",
    "ON bks.memid = mem.memid\n",
    "WHERE bks.starttime > \"2012-09-13 23:59:59\" AND bks.starttime < \"2012-09-15 00:00:00\"\n",
    "AND ( fac.membercost > 30 OR fac.guestcost > 30 )\n",
    "ORDER BY Cost DESC\n",
    "\n",
    "Result:\n",
    "\n",
    "Facility\t           Member\t      Cost\t\n",
    "Massage Room 1\t   GUEST, GUEST\t      169.9\n",
    "Massage Room 1\t   Stibbons, Ponder\t  169.9\n",
    "Massage Room 1\t   Genting, Matthew\t  169.9\n",
    "Massage Room 2\t   GUEST, GUEST\t      169.9\n",
    "Massage Room 1\t   Smith, Jack        169.9\n",
    "Massage Room 1\t   Farrell, Jemima\t  169.9\n",
    "Massage Room 1\t   Tracy, Burton\t  169.9\n",
    "Massage Room 2\t   Bader, Florence\t  169.9\n"
   ]
  },
  {
   "cell_type": "markdown",
   "metadata": {},
   "source": [
    "\n"
   ]
  },
  {
   "cell_type": "markdown",
   "metadata": {},
   "source": [
    "Question 9:\n",
    "\n",
    "This time, produce the same result as in Q8, but using a subquery."
   ]
  },
  {
   "cell_type": "markdown",
   "metadata": {},
   "source": [
    "Answer 9:\n",
    "\n",
    "Query:\n",
    "\n",
    "SELECT distinct fac.name as Facility, concat(mem.surname,', ', mem.firstname) as Member, (fac.membercost + fac.guestcost * 2) as Cost\n",
    "FROM country_club.Bookings bks\n",
    "JOIN\n",
    "-- subquery to get the facilities information\n",
    "     ( SELECT facid, name, membercost, guestcost from country_club.Facilities ) fac\n",
    "ON fac.facid = bks.facid\n",
    "JOIN\n",
    "-- subquery to get the member informaton\n",
    "     ( SELECT memid, surname, firstname from country_club.Members ) mem\n",
    "ON mem.memid = bks.memid\n",
    "WHERE bks.starttime > \"2012-09-13 23:59:59\" AND bks.starttime < \"2012-09-15 00:00:00\"\n",
    "AND ( fac.membercost > 30 OR fac.guestcost > 30 )\n",
    "ORDER BY Cost DESC\n",
    "\n",
    "Result:\n",
    "\n",
    "Facility\t           Member\t      Cost\t\n",
    "Massage Room 1\t   GUEST, GUEST\t      169.9\n",
    "Massage Room 1\t   Stibbons, Ponder\t  169.9\n",
    "Massage Room 1\t   Genting, Matthew\t  169.9\n",
    "Massage Room 2\t   GUEST, GUEST\t      169.9\n",
    "Massage Room 1\t   Smith, Jack        169.9\n",
    "Massage Room 1\t   Farrell, Jemima\t  169.9\n",
    "Massage Room 1\t   Tracy, Burton\t  169.9\n",
    "Massage Room 2\t   Bader, Florence\t  169.9"
   ]
  },
  {
   "cell_type": "markdown",
   "metadata": {},
   "source": [
    "Question 10:\n",
    "\n",
    "Produce a list of facilities with a total revenue less than 1000.\n",
    "The output of facility name and total revenue, sorted by revenue. Remember\n",
    "that there's a different cost for guests and members!"
   ]
  },
  {
   "cell_type": "markdown",
   "metadata": {},
   "source": [
    "Answer 10:\n",
    "\n",
    "Query:\n",
    "\n",
    "select name, revenue from (\n",
    "  -- Revenue = Income - Expense\n",
    "  SELECT fac.facid, fac.name, (income - expense) as revenue\n",
    "  from country_club.Facilities fac\n",
    "  JOIN\n",
    "  -- Calculate income from member bookings (Assume 1 member and 1 guest for each booking)\n",
    "  (SELECT fac.facid, fac.name, COUNT(*)\n",
    " * (fac.membercost + fac.guestcost) as income,0\n",
    "     FROM country_club.Bookings bks\n",
    "     JOIN country_club.Facilities fac\n",
    "     ON bks.facid = fac.facid\n",
    "     GROUP by fac.facid, fac.name) as T1_income\n",
    "  ON T1_income.facid = fac.facid\n",
    "  JOIN \n",
    "  -- Calculate expense from monthlymaintenance cost over the months spanned by the entries in the Bookings table\n",
    "  (SELECT fac.facid, 0, fac.monthlymaintenance * months as expense\n",
    "    FROM country_club.Facilities fac\n",
    "    JOIN \n",
    "    -- Determine the number of months spanned by dates in Bookings table for a given facility, \n",
    "    -- rounded to the nearest integer\n",
    "    (select facid, round(DATEDIFF(maxi,mini) / 30) as months from \n",
    "      ( select fac2.facid, max(bks2.starttime) as maxi, min(bks2.starttime) as mini\n",
    "           FROM country_club.Bookings bks2\n",
    "           JOIN country_club.Facilities fac2\n",
    "           ON fac2.facid = bks2.facid\n",
    "           GROUP BY fac2.facid\n",
    "       ) A1\n",
    "    ) as mm\n",
    "    ON \n",
    "    mm.facid = fac.facid\n",
    "    ) as T1_expense\n",
    "  ON T1_expense.facid = fac.facid\n",
    ") B\n",
    "-- Show only facilities whose revenue is less than 1000\n",
    "where revenue < 1000\n",
    "\n",
    "\n",
    "Result:\n",
    "\n",
    "name\t           revenue\t\n",
    "Massage Room 2\t    978.9\n"
   ]
  },
  {
   "cell_type": "markdown",
   "metadata": {},
   "source": []
  },
  {
   "cell_type": "markdown",
   "metadata": {},
   "source": []
  },
  {
   "cell_type": "markdown",
   "metadata": {},
   "source": []
  }
 ],
 "metadata": {
  "kernelspec": {
   "display_name": "Python 3",
   "language": "python",
   "name": "python3"
  },
  "language_info": {
   "codemirror_mode": {
    "name": "ipython",
    "version": 3
   },
   "file_extension": ".py",
   "mimetype": "text/x-python",
   "name": "python",
   "nbconvert_exporter": "python",
   "pygments_lexer": "ipython3",
   "version": "3.7.3"
  }
 },
 "nbformat": 4,
 "nbformat_minor": 2
}
