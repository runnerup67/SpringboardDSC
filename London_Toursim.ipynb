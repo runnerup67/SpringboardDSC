{
 "cells": [
  {
   "cell_type": "markdown",
   "metadata": {},
   "source": [
    "## EXPLORATORY DATA ANALYSIS"
   ]
  },
  {
   "cell_type": "code",
   "execution_count": 61,
   "metadata": {},
   "outputs": [
    {
     "ename": "ModuleNotFoundError",
     "evalue": "No module named 'xgboost'",
     "output_type": "error",
     "traceback": [
      "\u001b[0;31m---------------------------------------------------------------------------\u001b[0m",
      "\u001b[0;31mModuleNotFoundError\u001b[0m                       Traceback (most recent call last)",
      "\u001b[0;32m<ipython-input-61-5e4c7aa7aa1e>\u001b[0m in \u001b[0;36m<module>\u001b[0;34m\u001b[0m\n\u001b[1;32m      8\u001b[0m \u001b[0;32mfrom\u001b[0m \u001b[0mscipy\u001b[0m\u001b[0;34m.\u001b[0m\u001b[0mstats\u001b[0m \u001b[0;32mimport\u001b[0m \u001b[0mchi2_contingency\u001b[0m\u001b[0;34m\u001b[0m\u001b[0;34m\u001b[0m\u001b[0m\n\u001b[1;32m      9\u001b[0m \u001b[0;32mfrom\u001b[0m \u001b[0mscipy\u001b[0m\u001b[0;34m.\u001b[0m\u001b[0mstats\u001b[0m \u001b[0;32mimport\u001b[0m \u001b[0mt\u001b[0m\u001b[0;34m\u001b[0m\u001b[0;34m\u001b[0m\u001b[0m\n\u001b[0;32m---> 10\u001b[0;31m \u001b[0;32mimport\u001b[0m \u001b[0mxgboost\u001b[0m \u001b[0;32mas\u001b[0m \u001b[0mxgb\u001b[0m\u001b[0;34m\u001b[0m\u001b[0;34m\u001b[0m\u001b[0m\n\u001b[0m\u001b[1;32m     11\u001b[0m \u001b[0;32mfrom\u001b[0m \u001b[0msklearn\u001b[0m\u001b[0;34m.\u001b[0m\u001b[0mmetrics\u001b[0m \u001b[0;32mimport\u001b[0m \u001b[0mmean_squared_error\u001b[0m\u001b[0;34m\u001b[0m\u001b[0;34m\u001b[0m\u001b[0m\n",
      "\u001b[0;31mModuleNotFoundError\u001b[0m: No module named 'xgboost'"
     ]
    }
   ],
   "source": [
    "import pandas as pd\n",
    "import numpy as np\n",
    "import matplotlib.pyplot as plt\n",
    "import seaborn as sns\n",
    "from scipy import stats\n",
    "from scipy.stats import shapiro\n",
    "from scipy.stats import ttest_ind\n",
    "from scipy.stats import chi2_contingency\n",
    "from scipy.stats import t\n",
    "import xgboost as xgb\n",
    "from sklearn.metrics import mean_squared_error"
   ]
  },
  {
   "cell_type": "code",
   "execution_count": 2,
   "metadata": {},
   "outputs": [],
   "source": [
    "df = pd.read_csv('tourism.csv', encoding = 'unicode-escape', dtype = None, low_memory = False)"
   ]
  },
  {
   "cell_type": "code",
   "execution_count": 3,
   "metadata": {
    "scrolled": false
   },
   "outputs": [
    {
     "data": {
      "text/html": [
       "<div>\n",
       "<style scoped>\n",
       "    .dataframe tbody tr th:only-of-type {\n",
       "        vertical-align: middle;\n",
       "    }\n",
       "\n",
       "    .dataframe tbody tr th {\n",
       "        vertical-align: top;\n",
       "    }\n",
       "\n",
       "    .dataframe thead th {\n",
       "        text-align: right;\n",
       "    }\n",
       "</style>\n",
       "<table border=\"1\" class=\"dataframe\">\n",
       "  <thead>\n",
       "    <tr style=\"text-align: right;\">\n",
       "      <th></th>\n",
       "      <th>year</th>\n",
       "      <th>quarter</th>\n",
       "      <th>market</th>\n",
       "      <th>dur_stay</th>\n",
       "      <th>mode</th>\n",
       "      <th>mode_detail</th>\n",
       "      <th>nationality</th>\n",
       "      <th>purpose</th>\n",
       "      <th>sex</th>\n",
       "      <th>age</th>\n",
       "      <th>package</th>\n",
       "      <th>Visits (000s)</th>\n",
       "      <th>Spend (£m)</th>\n",
       "      <th>Nights (000s)</th>\n",
       "      <th>sample</th>\n",
       "    </tr>\n",
       "  </thead>\n",
       "  <tbody>\n",
       "    <tr>\n",
       "      <td>0</td>\n",
       "      <td>2002</td>\n",
       "      <td>January-March</td>\n",
       "      <td>Belgium</td>\n",
       "      <td>Nil  nights</td>\n",
       "      <td>Air</td>\n",
       "      <td>Air</td>\n",
       "      <td>UK</td>\n",
       "      <td>Business</td>\n",
       "      <td>Male</td>\n",
       "      <td>25-34</td>\n",
       "      <td>Independent</td>\n",
       "      <td>1.288285</td>\n",
       "      <td>0.034823</td>\n",
       "      <td>0.0</td>\n",
       "      <td>2</td>\n",
       "    </tr>\n",
       "    <tr>\n",
       "      <td>1</td>\n",
       "      <td>2002</td>\n",
       "      <td>January-March</td>\n",
       "      <td>Belgium</td>\n",
       "      <td>Nil  nights</td>\n",
       "      <td>Air</td>\n",
       "      <td>Air</td>\n",
       "      <td>UK</td>\n",
       "      <td>Business</td>\n",
       "      <td>Male</td>\n",
       "      <td>35-44</td>\n",
       "      <td>Independent</td>\n",
       "      <td>0.522022</td>\n",
       "      <td>0.032365</td>\n",
       "      <td>0.0</td>\n",
       "      <td>2</td>\n",
       "    </tr>\n",
       "    <tr>\n",
       "      <td>2</td>\n",
       "      <td>2002</td>\n",
       "      <td>January-March</td>\n",
       "      <td>Belgium</td>\n",
       "      <td>Nil  nights</td>\n",
       "      <td>Air</td>\n",
       "      <td>Air</td>\n",
       "      <td>UK</td>\n",
       "      <td>Business</td>\n",
       "      <td>Male</td>\n",
       "      <td>45-54</td>\n",
       "      <td>Independent</td>\n",
       "      <td>0.347127</td>\n",
       "      <td>0.056235</td>\n",
       "      <td>0.0</td>\n",
       "      <td>1</td>\n",
       "    </tr>\n",
       "    <tr>\n",
       "      <td>3</td>\n",
       "      <td>2002</td>\n",
       "      <td>January-March</td>\n",
       "      <td>Belgium</td>\n",
       "      <td>Nil  nights</td>\n",
       "      <td>Air</td>\n",
       "      <td>Air</td>\n",
       "      <td>UK</td>\n",
       "      <td>Business</td>\n",
       "      <td>Male</td>\n",
       "      <td>55-64</td>\n",
       "      <td>Independent</td>\n",
       "      <td>0.941973</td>\n",
       "      <td>0.025433</td>\n",
       "      <td>0.0</td>\n",
       "      <td>1</td>\n",
       "    </tr>\n",
       "    <tr>\n",
       "      <td>4</td>\n",
       "      <td>2002</td>\n",
       "      <td>January-March</td>\n",
       "      <td>Belgium</td>\n",
       "      <td>Nil  nights</td>\n",
       "      <td>Air</td>\n",
       "      <td>Air</td>\n",
       "      <td>UK</td>\n",
       "      <td>Transit</td>\n",
       "      <td>Male</td>\n",
       "      <td>25-34</td>\n",
       "      <td>Independent</td>\n",
       "      <td>0.000000</td>\n",
       "      <td>0.000000</td>\n",
       "      <td>0.0</td>\n",
       "      <td>1</td>\n",
       "    </tr>\n",
       "  </tbody>\n",
       "</table>\n",
       "</div>"
      ],
      "text/plain": [
       "   year        quarter   market     dur_stay mode mode_detail nationality  \\\n",
       "0  2002  January-March  Belgium  Nil  nights  Air         Air          UK   \n",
       "1  2002  January-March  Belgium  Nil  nights  Air         Air          UK   \n",
       "2  2002  January-March  Belgium  Nil  nights  Air         Air          UK   \n",
       "3  2002  January-March  Belgium  Nil  nights  Air         Air          UK   \n",
       "4  2002  January-March  Belgium  Nil  nights  Air         Air          UK   \n",
       "\n",
       "    purpose   sex    age      package  Visits (000s)  Spend (£m)  \\\n",
       "0  Business  Male  25-34  Independent       1.288285    0.034823   \n",
       "1  Business  Male  35-44  Independent       0.522022    0.032365   \n",
       "2  Business  Male  45-54  Independent       0.347127    0.056235   \n",
       "3  Business  Male  55-64  Independent       0.941973    0.025433   \n",
       "4   Transit  Male  25-34  Independent       0.000000    0.000000   \n",
       "\n",
       "   Nights (000s)  sample  \n",
       "0            0.0       2  \n",
       "1            0.0       2  \n",
       "2            0.0       1  \n",
       "3            0.0       1  \n",
       "4            0.0       1  "
      ]
     },
     "execution_count": 3,
     "metadata": {},
     "output_type": "execute_result"
    }
   ],
   "source": [
    "df.head()"
   ]
  },
  {
   "cell_type": "code",
   "execution_count": 4,
   "metadata": {
    "scrolled": true
   },
   "outputs": [
    {
     "data": {
      "text/plain": [
       "year             0\n",
       "quarter          0\n",
       "market           0\n",
       "dur_stay         0\n",
       "mode             0\n",
       "mode_detail      0\n",
       "nationality      0\n",
       "purpose          0\n",
       "sex              0\n",
       "age              0\n",
       "package          0\n",
       "Visits (000s)    0\n",
       "Spend (£m)       0\n",
       "Nights (000s)    0\n",
       "sample           0\n",
       "dtype: int64"
      ]
     },
     "execution_count": 4,
     "metadata": {},
     "output_type": "execute_result"
    }
   ],
   "source": [
    "df.isnull().sum()"
   ]
  },
  {
   "cell_type": "code",
   "execution_count": 5,
   "metadata": {},
   "outputs": [
    {
     "data": {
      "text/plain": [
       "(443010, 15)"
      ]
     },
     "execution_count": 5,
     "metadata": {},
     "output_type": "execute_result"
    }
   ],
   "source": [
    "df.shape"
   ]
  },
  {
   "cell_type": "code",
   "execution_count": 6,
   "metadata": {},
   "outputs": [
    {
     "name": "stdout",
     "output_type": "stream",
     "text": [
      "<class 'pandas.core.frame.DataFrame'>\n",
      "RangeIndex: 443010 entries, 0 to 443009\n",
      "Data columns (total 15 columns):\n",
      "year             443010 non-null object\n",
      "quarter          443010 non-null object\n",
      "market           443010 non-null object\n",
      "dur_stay         443010 non-null object\n",
      "mode             443010 non-null object\n",
      "mode_detail      443010 non-null object\n",
      "nationality      443010 non-null object\n",
      "purpose          443010 non-null object\n",
      "sex              443010 non-null object\n",
      "age              443010 non-null object\n",
      "package          443010 non-null object\n",
      "Visits (000s)    443010 non-null float64\n",
      "Spend (£m)       443010 non-null float64\n",
      "Nights (000s)    443010 non-null float64\n",
      "sample           443010 non-null int64\n",
      "dtypes: float64(3), int64(1), object(11)\n",
      "memory usage: 312.3 MB\n"
     ]
    }
   ],
   "source": [
    "df.info(memory_usage='deep')"
   ]
  },
  {
   "cell_type": "code",
   "execution_count": 7,
   "metadata": {},
   "outputs": [
    {
     "data": {
      "text/plain": [
       "year                 18\n",
       "quarter               4\n",
       "market               73\n",
       "dur_stay              6\n",
       "mode                  3\n",
       "mode_detail          11\n",
       "nationality          75\n",
       "purpose               6\n",
       "sex                   3\n",
       "age                   8\n",
       "package               2\n",
       "Visits (000s)    161313\n",
       "Spend (£m)       370326\n",
       "Nights (000s)    288171\n",
       "sample               69\n",
       "dtype: int64"
      ]
     },
     "execution_count": 7,
     "metadata": {},
     "output_type": "execute_result"
    }
   ],
   "source": [
    "df.nunique()"
   ]
  },
  {
   "cell_type": "code",
   "execution_count": 8,
   "metadata": {},
   "outputs": [],
   "source": [
    " df[['quarter', 'dur_stay', 'mode', 'mode_detail', 'purpose', 'sex', 'age', 'package']] =  df[['quarter', 'dur_stay', 'mode', 'mode_detail', 'purpose', 'sex', 'age', 'package']].astype('category')"
   ]
  },
  {
   "cell_type": "code",
   "execution_count": 9,
   "metadata": {},
   "outputs": [
    {
     "data": {
      "text/plain": [
       "array(['2002', '2003', '2004', '2005', '2006', '2007', '2008', '2009',\n",
       "       '2010', '2011', '2012', '2013', '2014', '2015', '2016', '2017',\n",
       "       '2018', '2019P'], dtype=object)"
      ]
     },
     "execution_count": 9,
     "metadata": {},
     "output_type": "execute_result"
    }
   ],
   "source": [
    "df.year.unique()"
   ]
  },
  {
   "cell_type": "code",
   "execution_count": 10,
   "metadata": {},
   "outputs": [],
   "source": [
    "df.year.replace('2019P', '2019', inplace = True)"
   ]
  },
  {
   "cell_type": "code",
   "execution_count": 11,
   "metadata": {},
   "outputs": [],
   "source": [
    "df['year'] = df['year'].astype('int64')"
   ]
  },
  {
   "cell_type": "code",
   "execution_count": 12,
   "metadata": {
    "scrolled": true
   },
   "outputs": [
    {
     "name": "stdout",
     "output_type": "stream",
     "text": [
      "<class 'pandas.core.frame.DataFrame'>\n",
      "RangeIndex: 443010 entries, 0 to 443009\n",
      "Data columns (total 15 columns):\n",
      "year             443010 non-null int64\n",
      "quarter          443010 non-null category\n",
      "market           443010 non-null object\n",
      "dur_stay         443010 non-null category\n",
      "mode             443010 non-null category\n",
      "mode_detail      443010 non-null category\n",
      "nationality      443010 non-null object\n",
      "purpose          443010 non-null category\n",
      "sex              443010 non-null category\n",
      "age              443010 non-null category\n",
      "package          443010 non-null category\n",
      "Visits (000s)    443010 non-null float64\n",
      "Spend (£m)       443010 non-null float64\n",
      "Nights (000s)    443010 non-null float64\n",
      "sample           443010 non-null int64\n",
      "dtypes: category(8), float64(3), int64(2), object(2)\n",
      "memory usage: 74.8 MB\n"
     ]
    }
   ],
   "source": [
    "df.info(memory_usage='deep')"
   ]
  },
  {
   "cell_type": "code",
   "execution_count": 13,
   "metadata": {
    "scrolled": true
   },
   "outputs": [],
   "source": [
    "col_names = {'Visits (000s)': 'visits', 'Spend (£m)': 'spend', 'Nights (000s)': 'nights'}\n",
    "df = df.rename(columns = col_names)"
   ]
  },
  {
   "cell_type": "code",
   "execution_count": 14,
   "metadata": {},
   "outputs": [
    {
     "data": {
      "text/plain": [
       "[January-March, April-June, July-September, October-December]\n",
       "Categories (4, object): [January-March, April-June, July-September, October-December]"
      ]
     },
     "execution_count": 14,
     "metadata": {},
     "output_type": "execute_result"
    }
   ],
   "source": [
    "df.quarter.unique()"
   ]
  },
  {
   "cell_type": "code",
   "execution_count": 15,
   "metadata": {},
   "outputs": [],
   "source": [
    "df = df.replace(['January-March', 'April-June', 'July-September', 'October-December'], ['Q1', 'Q2', 'Q3', 'Q4'])"
   ]
  },
  {
   "cell_type": "code",
   "execution_count": 16,
   "metadata": {
    "scrolled": true
   },
   "outputs": [
    {
     "data": {
      "text/html": [
       "<div>\n",
       "<style scoped>\n",
       "    .dataframe tbody tr th:only-of-type {\n",
       "        vertical-align: middle;\n",
       "    }\n",
       "\n",
       "    .dataframe tbody tr th {\n",
       "        vertical-align: top;\n",
       "    }\n",
       "\n",
       "    .dataframe thead th {\n",
       "        text-align: right;\n",
       "    }\n",
       "</style>\n",
       "<table border=\"1\" class=\"dataframe\">\n",
       "  <thead>\n",
       "    <tr style=\"text-align: right;\">\n",
       "      <th></th>\n",
       "      <th>year</th>\n",
       "      <th>quarter</th>\n",
       "      <th>market</th>\n",
       "      <th>dur_stay</th>\n",
       "      <th>mode</th>\n",
       "      <th>mode_detail</th>\n",
       "      <th>nationality</th>\n",
       "      <th>purpose</th>\n",
       "      <th>sex</th>\n",
       "      <th>age</th>\n",
       "      <th>package</th>\n",
       "      <th>visits</th>\n",
       "      <th>spend</th>\n",
       "      <th>nights</th>\n",
       "      <th>sample</th>\n",
       "    </tr>\n",
       "  </thead>\n",
       "  <tbody>\n",
       "    <tr>\n",
       "      <td>0</td>\n",
       "      <td>2002</td>\n",
       "      <td>Q1</td>\n",
       "      <td>Belgium</td>\n",
       "      <td>Nil  nights</td>\n",
       "      <td>Air</td>\n",
       "      <td>Air</td>\n",
       "      <td>UK</td>\n",
       "      <td>Business</td>\n",
       "      <td>Male</td>\n",
       "      <td>25-34</td>\n",
       "      <td>Independent</td>\n",
       "      <td>1.288285</td>\n",
       "      <td>0.034823</td>\n",
       "      <td>0.0</td>\n",
       "      <td>2</td>\n",
       "    </tr>\n",
       "    <tr>\n",
       "      <td>1</td>\n",
       "      <td>2002</td>\n",
       "      <td>Q1</td>\n",
       "      <td>Belgium</td>\n",
       "      <td>Nil  nights</td>\n",
       "      <td>Air</td>\n",
       "      <td>Air</td>\n",
       "      <td>UK</td>\n",
       "      <td>Business</td>\n",
       "      <td>Male</td>\n",
       "      <td>35-44</td>\n",
       "      <td>Independent</td>\n",
       "      <td>0.522022</td>\n",
       "      <td>0.032365</td>\n",
       "      <td>0.0</td>\n",
       "      <td>2</td>\n",
       "    </tr>\n",
       "    <tr>\n",
       "      <td>2</td>\n",
       "      <td>2002</td>\n",
       "      <td>Q1</td>\n",
       "      <td>Belgium</td>\n",
       "      <td>Nil  nights</td>\n",
       "      <td>Air</td>\n",
       "      <td>Air</td>\n",
       "      <td>UK</td>\n",
       "      <td>Business</td>\n",
       "      <td>Male</td>\n",
       "      <td>45-54</td>\n",
       "      <td>Independent</td>\n",
       "      <td>0.347127</td>\n",
       "      <td>0.056235</td>\n",
       "      <td>0.0</td>\n",
       "      <td>1</td>\n",
       "    </tr>\n",
       "    <tr>\n",
       "      <td>3</td>\n",
       "      <td>2002</td>\n",
       "      <td>Q1</td>\n",
       "      <td>Belgium</td>\n",
       "      <td>Nil  nights</td>\n",
       "      <td>Air</td>\n",
       "      <td>Air</td>\n",
       "      <td>UK</td>\n",
       "      <td>Business</td>\n",
       "      <td>Male</td>\n",
       "      <td>55-64</td>\n",
       "      <td>Independent</td>\n",
       "      <td>0.941973</td>\n",
       "      <td>0.025433</td>\n",
       "      <td>0.0</td>\n",
       "      <td>1</td>\n",
       "    </tr>\n",
       "    <tr>\n",
       "      <td>4</td>\n",
       "      <td>2002</td>\n",
       "      <td>Q1</td>\n",
       "      <td>Belgium</td>\n",
       "      <td>Nil  nights</td>\n",
       "      <td>Air</td>\n",
       "      <td>Air</td>\n",
       "      <td>UK</td>\n",
       "      <td>Transit</td>\n",
       "      <td>Male</td>\n",
       "      <td>25-34</td>\n",
       "      <td>Independent</td>\n",
       "      <td>0.000000</td>\n",
       "      <td>0.000000</td>\n",
       "      <td>0.0</td>\n",
       "      <td>1</td>\n",
       "    </tr>\n",
       "  </tbody>\n",
       "</table>\n",
       "</div>"
      ],
      "text/plain": [
       "   year quarter   market     dur_stay mode mode_detail nationality   purpose  \\\n",
       "0  2002      Q1  Belgium  Nil  nights  Air         Air          UK  Business   \n",
       "1  2002      Q1  Belgium  Nil  nights  Air         Air          UK  Business   \n",
       "2  2002      Q1  Belgium  Nil  nights  Air         Air          UK  Business   \n",
       "3  2002      Q1  Belgium  Nil  nights  Air         Air          UK  Business   \n",
       "4  2002      Q1  Belgium  Nil  nights  Air         Air          UK   Transit   \n",
       "\n",
       "    sex    age      package    visits     spend  nights  sample  \n",
       "0  Male  25-34  Independent  1.288285  0.034823     0.0       2  \n",
       "1  Male  35-44  Independent  0.522022  0.032365     0.0       2  \n",
       "2  Male  45-54  Independent  0.347127  0.056235     0.0       1  \n",
       "3  Male  55-64  Independent  0.941973  0.025433     0.0       1  \n",
       "4  Male  25-34  Independent  0.000000  0.000000     0.0       1  "
      ]
     },
     "execution_count": 16,
     "metadata": {},
     "output_type": "execute_result"
    }
   ],
   "source": [
    "df.head()"
   ]
  },
  {
   "cell_type": "code",
   "execution_count": 17,
   "metadata": {},
   "outputs": [],
   "source": [
    "df['per_tourist'] = df.spend / df.visits\n",
    "df.per_tourist.fillna(0, inplace = True)"
   ]
  },
  {
   "cell_type": "code",
   "execution_count": 18,
   "metadata": {},
   "outputs": [
    {
     "data": {
      "text/html": [
       "<div>\n",
       "<style scoped>\n",
       "    .dataframe tbody tr th:only-of-type {\n",
       "        vertical-align: middle;\n",
       "    }\n",
       "\n",
       "    .dataframe tbody tr th {\n",
       "        vertical-align: top;\n",
       "    }\n",
       "\n",
       "    .dataframe thead th {\n",
       "        text-align: right;\n",
       "    }\n",
       "</style>\n",
       "<table border=\"1\" class=\"dataframe\">\n",
       "  <thead>\n",
       "    <tr style=\"text-align: right;\">\n",
       "      <th></th>\n",
       "      <th>year</th>\n",
       "      <th>quarter</th>\n",
       "      <th>market</th>\n",
       "      <th>dur_stay</th>\n",
       "      <th>mode</th>\n",
       "      <th>mode_detail</th>\n",
       "      <th>nationality</th>\n",
       "      <th>purpose</th>\n",
       "      <th>sex</th>\n",
       "      <th>age</th>\n",
       "      <th>package</th>\n",
       "      <th>visits</th>\n",
       "      <th>spend</th>\n",
       "      <th>nights</th>\n",
       "      <th>sample</th>\n",
       "      <th>per_tourist</th>\n",
       "    </tr>\n",
       "  </thead>\n",
       "  <tbody>\n",
       "    <tr>\n",
       "      <td>0</td>\n",
       "      <td>2002</td>\n",
       "      <td>Q1</td>\n",
       "      <td>Belgium</td>\n",
       "      <td>Nil  nights</td>\n",
       "      <td>Air</td>\n",
       "      <td>Air</td>\n",
       "      <td>UK</td>\n",
       "      <td>Business</td>\n",
       "      <td>Male</td>\n",
       "      <td>25-34</td>\n",
       "      <td>Independent</td>\n",
       "      <td>1.288285</td>\n",
       "      <td>0.034823</td>\n",
       "      <td>0.0</td>\n",
       "      <td>2</td>\n",
       "      <td>0.02703</td>\n",
       "    </tr>\n",
       "    <tr>\n",
       "      <td>1</td>\n",
       "      <td>2002</td>\n",
       "      <td>Q1</td>\n",
       "      <td>Belgium</td>\n",
       "      <td>Nil  nights</td>\n",
       "      <td>Air</td>\n",
       "      <td>Air</td>\n",
       "      <td>UK</td>\n",
       "      <td>Business</td>\n",
       "      <td>Male</td>\n",
       "      <td>35-44</td>\n",
       "      <td>Independent</td>\n",
       "      <td>0.522022</td>\n",
       "      <td>0.032365</td>\n",
       "      <td>0.0</td>\n",
       "      <td>2</td>\n",
       "      <td>0.06200</td>\n",
       "    </tr>\n",
       "    <tr>\n",
       "      <td>2</td>\n",
       "      <td>2002</td>\n",
       "      <td>Q1</td>\n",
       "      <td>Belgium</td>\n",
       "      <td>Nil  nights</td>\n",
       "      <td>Air</td>\n",
       "      <td>Air</td>\n",
       "      <td>UK</td>\n",
       "      <td>Business</td>\n",
       "      <td>Male</td>\n",
       "      <td>45-54</td>\n",
       "      <td>Independent</td>\n",
       "      <td>0.347127</td>\n",
       "      <td>0.056235</td>\n",
       "      <td>0.0</td>\n",
       "      <td>1</td>\n",
       "      <td>0.16200</td>\n",
       "    </tr>\n",
       "    <tr>\n",
       "      <td>3</td>\n",
       "      <td>2002</td>\n",
       "      <td>Q1</td>\n",
       "      <td>Belgium</td>\n",
       "      <td>Nil  nights</td>\n",
       "      <td>Air</td>\n",
       "      <td>Air</td>\n",
       "      <td>UK</td>\n",
       "      <td>Business</td>\n",
       "      <td>Male</td>\n",
       "      <td>55-64</td>\n",
       "      <td>Independent</td>\n",
       "      <td>0.941973</td>\n",
       "      <td>0.025433</td>\n",
       "      <td>0.0</td>\n",
       "      <td>1</td>\n",
       "      <td>0.02700</td>\n",
       "    </tr>\n",
       "    <tr>\n",
       "      <td>4</td>\n",
       "      <td>2002</td>\n",
       "      <td>Q1</td>\n",
       "      <td>Belgium</td>\n",
       "      <td>Nil  nights</td>\n",
       "      <td>Air</td>\n",
       "      <td>Air</td>\n",
       "      <td>UK</td>\n",
       "      <td>Transit</td>\n",
       "      <td>Male</td>\n",
       "      <td>25-34</td>\n",
       "      <td>Independent</td>\n",
       "      <td>0.000000</td>\n",
       "      <td>0.000000</td>\n",
       "      <td>0.0</td>\n",
       "      <td>1</td>\n",
       "      <td>0.00000</td>\n",
       "    </tr>\n",
       "  </tbody>\n",
       "</table>\n",
       "</div>"
      ],
      "text/plain": [
       "   year quarter   market     dur_stay mode mode_detail nationality   purpose  \\\n",
       "0  2002      Q1  Belgium  Nil  nights  Air         Air          UK  Business   \n",
       "1  2002      Q1  Belgium  Nil  nights  Air         Air          UK  Business   \n",
       "2  2002      Q1  Belgium  Nil  nights  Air         Air          UK  Business   \n",
       "3  2002      Q1  Belgium  Nil  nights  Air         Air          UK  Business   \n",
       "4  2002      Q1  Belgium  Nil  nights  Air         Air          UK   Transit   \n",
       "\n",
       "    sex    age      package    visits     spend  nights  sample  per_tourist  \n",
       "0  Male  25-34  Independent  1.288285  0.034823     0.0       2      0.02703  \n",
       "1  Male  35-44  Independent  0.522022  0.032365     0.0       2      0.06200  \n",
       "2  Male  45-54  Independent  0.347127  0.056235     0.0       1      0.16200  \n",
       "3  Male  55-64  Independent  0.941973  0.025433     0.0       1      0.02700  \n",
       "4  Male  25-34  Independent  0.000000  0.000000     0.0       1      0.00000  "
      ]
     },
     "execution_count": 18,
     "metadata": {},
     "output_type": "execute_result"
    }
   ],
   "source": [
    "df.head()"
   ]
  },
  {
   "cell_type": "code",
   "execution_count": 19,
   "metadata": {
    "scrolled": true
   },
   "outputs": [
    {
     "data": {
      "text/html": [
       "<div>\n",
       "<style scoped>\n",
       "    .dataframe tbody tr th:only-of-type {\n",
       "        vertical-align: middle;\n",
       "    }\n",
       "\n",
       "    .dataframe tbody tr th {\n",
       "        vertical-align: top;\n",
       "    }\n",
       "\n",
       "    .dataframe thead th {\n",
       "        text-align: right;\n",
       "    }\n",
       "</style>\n",
       "<table border=\"1\" class=\"dataframe\">\n",
       "  <thead>\n",
       "    <tr style=\"text-align: right;\">\n",
       "      <th></th>\n",
       "      <th>year</th>\n",
       "      <th>visits</th>\n",
       "      <th>spend</th>\n",
       "      <th>nights</th>\n",
       "      <th>sample</th>\n",
       "      <th>per_tourist</th>\n",
       "    </tr>\n",
       "  </thead>\n",
       "  <tbody>\n",
       "    <tr>\n",
       "      <td>count</td>\n",
       "      <td>443010.000000</td>\n",
       "      <td>443010.000000</td>\n",
       "      <td>443010.000000</td>\n",
       "      <td>443010.000000</td>\n",
       "      <td>443010.000000</td>\n",
       "      <td>4.430100e+05</td>\n",
       "    </tr>\n",
       "    <tr>\n",
       "      <td>mean</td>\n",
       "      <td>2010.182718</td>\n",
       "      <td>1.293075</td>\n",
       "      <td>0.729893</td>\n",
       "      <td>9.909916</td>\n",
       "      <td>1.807657</td>\n",
       "      <td>inf</td>\n",
       "    </tr>\n",
       "    <tr>\n",
       "      <td>std</td>\n",
       "      <td>4.995472</td>\n",
       "      <td>1.982608</td>\n",
       "      <td>1.899529</td>\n",
       "      <td>26.942452</td>\n",
       "      <td>2.451946</td>\n",
       "      <td>NaN</td>\n",
       "    </tr>\n",
       "    <tr>\n",
       "      <td>min</td>\n",
       "      <td>2002.000000</td>\n",
       "      <td>0.000000</td>\n",
       "      <td>0.000000</td>\n",
       "      <td>0.000000</td>\n",
       "      <td>1.000000</td>\n",
       "      <td>0.000000e+00</td>\n",
       "    </tr>\n",
       "    <tr>\n",
       "      <td>25%</td>\n",
       "      <td>2006.000000</td>\n",
       "      <td>0.392937</td>\n",
       "      <td>0.074671</td>\n",
       "      <td>1.181872</td>\n",
       "      <td>1.000000</td>\n",
       "      <td>1.400000e-01</td>\n",
       "    </tr>\n",
       "    <tr>\n",
       "      <td>50%</td>\n",
       "      <td>2010.000000</td>\n",
       "      <td>0.721019</td>\n",
       "      <td>0.260128</td>\n",
       "      <td>3.534925</td>\n",
       "      <td>1.000000</td>\n",
       "      <td>3.532536e-01</td>\n",
       "    </tr>\n",
       "    <tr>\n",
       "      <td>75%</td>\n",
       "      <td>2014.000000</td>\n",
       "      <td>1.425891</td>\n",
       "      <td>0.711861</td>\n",
       "      <td>9.134462</td>\n",
       "      <td>2.000000</td>\n",
       "      <td>8.164782e-01</td>\n",
       "    </tr>\n",
       "    <tr>\n",
       "      <td>max</td>\n",
       "      <td>2019.000000</td>\n",
       "      <td>62.593937</td>\n",
       "      <td>226.402128</td>\n",
       "      <td>4022.016250</td>\n",
       "      <td>78.000000</td>\n",
       "      <td>inf</td>\n",
       "    </tr>\n",
       "  </tbody>\n",
       "</table>\n",
       "</div>"
      ],
      "text/plain": [
       "                year         visits          spend         nights  \\\n",
       "count  443010.000000  443010.000000  443010.000000  443010.000000   \n",
       "mean     2010.182718       1.293075       0.729893       9.909916   \n",
       "std         4.995472       1.982608       1.899529      26.942452   \n",
       "min      2002.000000       0.000000       0.000000       0.000000   \n",
       "25%      2006.000000       0.392937       0.074671       1.181872   \n",
       "50%      2010.000000       0.721019       0.260128       3.534925   \n",
       "75%      2014.000000       1.425891       0.711861       9.134462   \n",
       "max      2019.000000      62.593937     226.402128    4022.016250   \n",
       "\n",
       "              sample   per_tourist  \n",
       "count  443010.000000  4.430100e+05  \n",
       "mean        1.807657           inf  \n",
       "std         2.451946           NaN  \n",
       "min         1.000000  0.000000e+00  \n",
       "25%         1.000000  1.400000e-01  \n",
       "50%         1.000000  3.532536e-01  \n",
       "75%         2.000000  8.164782e-01  \n",
       "max        78.000000           inf  "
      ]
     },
     "execution_count": 19,
     "metadata": {},
     "output_type": "execute_result"
    }
   ],
   "source": [
    "df.describe()"
   ]
  },
  {
   "cell_type": "code",
   "execution_count": 20,
   "metadata": {},
   "outputs": [
    {
     "data": {
      "text/html": [
       "<div>\n",
       "<style scoped>\n",
       "    .dataframe tbody tr th:only-of-type {\n",
       "        vertical-align: middle;\n",
       "    }\n",
       "\n",
       "    .dataframe tbody tr th {\n",
       "        vertical-align: top;\n",
       "    }\n",
       "\n",
       "    .dataframe thead th {\n",
       "        text-align: right;\n",
       "    }\n",
       "</style>\n",
       "<table border=\"1\" class=\"dataframe\">\n",
       "  <thead>\n",
       "    <tr style=\"text-align: right;\">\n",
       "      <th></th>\n",
       "      <th>year</th>\n",
       "      <th>quarter</th>\n",
       "      <th>market</th>\n",
       "      <th>dur_stay</th>\n",
       "      <th>mode</th>\n",
       "      <th>mode_detail</th>\n",
       "      <th>nationality</th>\n",
       "      <th>purpose</th>\n",
       "      <th>sex</th>\n",
       "      <th>age</th>\n",
       "      <th>package</th>\n",
       "      <th>visits</th>\n",
       "      <th>spend</th>\n",
       "      <th>nights</th>\n",
       "      <th>sample</th>\n",
       "      <th>per_tourist</th>\n",
       "    </tr>\n",
       "  </thead>\n",
       "  <tbody>\n",
       "    <tr>\n",
       "      <td>0</td>\n",
       "      <td>2002</td>\n",
       "      <td>Q1</td>\n",
       "      <td>Belgium</td>\n",
       "      <td>Nil  nights</td>\n",
       "      <td>Air</td>\n",
       "      <td>Air</td>\n",
       "      <td>UK</td>\n",
       "      <td>Business</td>\n",
       "      <td>Male</td>\n",
       "      <td>25-34</td>\n",
       "      <td>Independent</td>\n",
       "      <td>1.288285</td>\n",
       "      <td>0.034823</td>\n",
       "      <td>0.0</td>\n",
       "      <td>2</td>\n",
       "      <td>0.02703</td>\n",
       "    </tr>\n",
       "    <tr>\n",
       "      <td>1</td>\n",
       "      <td>2002</td>\n",
       "      <td>Q1</td>\n",
       "      <td>Belgium</td>\n",
       "      <td>Nil  nights</td>\n",
       "      <td>Air</td>\n",
       "      <td>Air</td>\n",
       "      <td>UK</td>\n",
       "      <td>Business</td>\n",
       "      <td>Male</td>\n",
       "      <td>35-44</td>\n",
       "      <td>Independent</td>\n",
       "      <td>0.522022</td>\n",
       "      <td>0.032365</td>\n",
       "      <td>0.0</td>\n",
       "      <td>2</td>\n",
       "      <td>0.06200</td>\n",
       "    </tr>\n",
       "    <tr>\n",
       "      <td>2</td>\n",
       "      <td>2002</td>\n",
       "      <td>Q1</td>\n",
       "      <td>Belgium</td>\n",
       "      <td>Nil  nights</td>\n",
       "      <td>Air</td>\n",
       "      <td>Air</td>\n",
       "      <td>UK</td>\n",
       "      <td>Business</td>\n",
       "      <td>Male</td>\n",
       "      <td>45-54</td>\n",
       "      <td>Independent</td>\n",
       "      <td>0.347127</td>\n",
       "      <td>0.056235</td>\n",
       "      <td>0.0</td>\n",
       "      <td>1</td>\n",
       "      <td>0.16200</td>\n",
       "    </tr>\n",
       "    <tr>\n",
       "      <td>3</td>\n",
       "      <td>2002</td>\n",
       "      <td>Q1</td>\n",
       "      <td>Belgium</td>\n",
       "      <td>Nil  nights</td>\n",
       "      <td>Air</td>\n",
       "      <td>Air</td>\n",
       "      <td>UK</td>\n",
       "      <td>Business</td>\n",
       "      <td>Male</td>\n",
       "      <td>55-64</td>\n",
       "      <td>Independent</td>\n",
       "      <td>0.941973</td>\n",
       "      <td>0.025433</td>\n",
       "      <td>0.0</td>\n",
       "      <td>1</td>\n",
       "      <td>0.02700</td>\n",
       "    </tr>\n",
       "    <tr>\n",
       "      <td>4</td>\n",
       "      <td>2002</td>\n",
       "      <td>Q1</td>\n",
       "      <td>Belgium</td>\n",
       "      <td>Nil  nights</td>\n",
       "      <td>Air</td>\n",
       "      <td>Air</td>\n",
       "      <td>UK</td>\n",
       "      <td>Transit</td>\n",
       "      <td>Male</td>\n",
       "      <td>25-34</td>\n",
       "      <td>Independent</td>\n",
       "      <td>0.000000</td>\n",
       "      <td>0.000000</td>\n",
       "      <td>0.0</td>\n",
       "      <td>1</td>\n",
       "      <td>0.00000</td>\n",
       "    </tr>\n",
       "  </tbody>\n",
       "</table>\n",
       "</div>"
      ],
      "text/plain": [
       "   year quarter   market     dur_stay mode mode_detail nationality   purpose  \\\n",
       "0  2002      Q1  Belgium  Nil  nights  Air         Air          UK  Business   \n",
       "1  2002      Q1  Belgium  Nil  nights  Air         Air          UK  Business   \n",
       "2  2002      Q1  Belgium  Nil  nights  Air         Air          UK  Business   \n",
       "3  2002      Q1  Belgium  Nil  nights  Air         Air          UK  Business   \n",
       "4  2002      Q1  Belgium  Nil  nights  Air         Air          UK   Transit   \n",
       "\n",
       "    sex    age      package    visits     spend  nights  sample  per_tourist  \n",
       "0  Male  25-34  Independent  1.288285  0.034823     0.0       2      0.02703  \n",
       "1  Male  35-44  Independent  0.522022  0.032365     0.0       2      0.06200  \n",
       "2  Male  45-54  Independent  0.347127  0.056235     0.0       1      0.16200  \n",
       "3  Male  55-64  Independent  0.941973  0.025433     0.0       1      0.02700  \n",
       "4  Male  25-34  Independent  0.000000  0.000000     0.0       1      0.00000  "
      ]
     },
     "execution_count": 20,
     "metadata": {},
     "output_type": "execute_result"
    }
   ],
   "source": [
    "df.head()"
   ]
  },
  {
   "cell_type": "code",
   "execution_count": 21,
   "metadata": {},
   "outputs": [
    {
     "data": {
      "text/html": [
       "<div>\n",
       "<style scoped>\n",
       "    .dataframe tbody tr th:only-of-type {\n",
       "        vertical-align: middle;\n",
       "    }\n",
       "\n",
       "    .dataframe tbody tr th {\n",
       "        vertical-align: top;\n",
       "    }\n",
       "\n",
       "    .dataframe thead th {\n",
       "        text-align: right;\n",
       "    }\n",
       "</style>\n",
       "<table border=\"1\" class=\"dataframe\">\n",
       "  <thead>\n",
       "    <tr style=\"text-align: right;\">\n",
       "      <th></th>\n",
       "      <th>year</th>\n",
       "      <th>quarter</th>\n",
       "      <th>market</th>\n",
       "      <th>dur_stay</th>\n",
       "      <th>mode</th>\n",
       "      <th>mode_detail</th>\n",
       "      <th>nationality</th>\n",
       "      <th>purpose</th>\n",
       "      <th>sex</th>\n",
       "      <th>age</th>\n",
       "      <th>package</th>\n",
       "      <th>visits</th>\n",
       "      <th>spend</th>\n",
       "      <th>nights</th>\n",
       "      <th>sample</th>\n",
       "      <th>per_tourist</th>\n",
       "    </tr>\n",
       "  </thead>\n",
       "  <tbody>\n",
       "    <tr>\n",
       "      <td>443005</td>\n",
       "      <td>2019</td>\n",
       "      <td>Q3</td>\n",
       "      <td>Other Africa</td>\n",
       "      <td>15+  nights</td>\n",
       "      <td>Air</td>\n",
       "      <td>Air</td>\n",
       "      <td>Other Africa</td>\n",
       "      <td>Study</td>\n",
       "      <td>Male</td>\n",
       "      <td>25-34</td>\n",
       "      <td>Independent</td>\n",
       "      <td>0.464177</td>\n",
       "      <td>0.835519</td>\n",
       "      <td>41.77593</td>\n",
       "      <td>1</td>\n",
       "      <td>1.800</td>\n",
       "    </tr>\n",
       "    <tr>\n",
       "      <td>443006</td>\n",
       "      <td>2019</td>\n",
       "      <td>Q3</td>\n",
       "      <td>Other Africa</td>\n",
       "      <td>15+  nights</td>\n",
       "      <td>Air</td>\n",
       "      <td>Air</td>\n",
       "      <td>Other Africa</td>\n",
       "      <td>Miscellaneous</td>\n",
       "      <td>Male</td>\n",
       "      <td>55-64</td>\n",
       "      <td>Independent</td>\n",
       "      <td>0.498113</td>\n",
       "      <td>1.003698</td>\n",
       "      <td>9.96226</td>\n",
       "      <td>1</td>\n",
       "      <td>2.015</td>\n",
       "    </tr>\n",
       "    <tr>\n",
       "      <td>443007</td>\n",
       "      <td>2019</td>\n",
       "      <td>Q3</td>\n",
       "      <td>Other Africa</td>\n",
       "      <td>Not Known</td>\n",
       "      <td>Air</td>\n",
       "      <td>Air</td>\n",
       "      <td>Kenya</td>\n",
       "      <td>Transit</td>\n",
       "      <td>Male</td>\n",
       "      <td>45-54</td>\n",
       "      <td>Independent</td>\n",
       "      <td>0.000000</td>\n",
       "      <td>0.000000</td>\n",
       "      <td>0.00000</td>\n",
       "      <td>1</td>\n",
       "      <td>0.000</td>\n",
       "    </tr>\n",
       "    <tr>\n",
       "      <td>443008</td>\n",
       "      <td>2019</td>\n",
       "      <td>Q3</td>\n",
       "      <td>Other Areas / Unknown</td>\n",
       "      <td>Not Known</td>\n",
       "      <td>Air</td>\n",
       "      <td>Air</td>\n",
       "      <td>Other areas / unknown</td>\n",
       "      <td>Holiday</td>\n",
       "      <td>Not Known</td>\n",
       "      <td>Not Known</td>\n",
       "      <td>Independent</td>\n",
       "      <td>0.000000</td>\n",
       "      <td>5.682977</td>\n",
       "      <td>0.00000</td>\n",
       "      <td>1</td>\n",
       "      <td>inf</td>\n",
       "    </tr>\n",
       "    <tr>\n",
       "      <td>443009</td>\n",
       "      <td>2019</td>\n",
       "      <td>Q3</td>\n",
       "      <td>Other Areas / Unknown</td>\n",
       "      <td>Not Known</td>\n",
       "      <td>Sea</td>\n",
       "      <td>Sea - Not Known</td>\n",
       "      <td>Other areas / unknown</td>\n",
       "      <td>Holiday</td>\n",
       "      <td>Not Known</td>\n",
       "      <td>Not Known</td>\n",
       "      <td>Independent</td>\n",
       "      <td>0.000000</td>\n",
       "      <td>5.682977</td>\n",
       "      <td>0.00000</td>\n",
       "      <td>1</td>\n",
       "      <td>inf</td>\n",
       "    </tr>\n",
       "  </tbody>\n",
       "</table>\n",
       "</div>"
      ],
      "text/plain": [
       "        year quarter                 market     dur_stay mode  \\\n",
       "443005  2019      Q3           Other Africa  15+  nights  Air   \n",
       "443006  2019      Q3           Other Africa  15+  nights  Air   \n",
       "443007  2019      Q3           Other Africa    Not Known  Air   \n",
       "443008  2019      Q3  Other Areas / Unknown    Not Known  Air   \n",
       "443009  2019      Q3  Other Areas / Unknown    Not Known  Sea   \n",
       "\n",
       "            mode_detail            nationality        purpose        sex  \\\n",
       "443005              Air           Other Africa          Study       Male   \n",
       "443006              Air           Other Africa  Miscellaneous       Male   \n",
       "443007              Air                  Kenya        Transit       Male   \n",
       "443008              Air  Other areas / unknown        Holiday  Not Known   \n",
       "443009  Sea - Not Known  Other areas / unknown        Holiday  Not Known   \n",
       "\n",
       "              age      package    visits     spend    nights  sample  \\\n",
       "443005      25-34  Independent  0.464177  0.835519  41.77593       1   \n",
       "443006      55-64  Independent  0.498113  1.003698   9.96226       1   \n",
       "443007      45-54  Independent  0.000000  0.000000   0.00000       1   \n",
       "443008  Not Known  Independent  0.000000  5.682977   0.00000       1   \n",
       "443009  Not Known  Independent  0.000000  5.682977   0.00000       1   \n",
       "\n",
       "        per_tourist  \n",
       "443005        1.800  \n",
       "443006        2.015  \n",
       "443007        0.000  \n",
       "443008          inf  \n",
       "443009          inf  "
      ]
     },
     "execution_count": 21,
     "metadata": {},
     "output_type": "execute_result"
    }
   ],
   "source": [
    "df.tail()"
   ]
  },
  {
   "cell_type": "code",
   "execution_count": 22,
   "metadata": {},
   "outputs": [
    {
     "data": {
      "text/html": [
       "<div>\n",
       "<style scoped>\n",
       "    .dataframe tbody tr th:only-of-type {\n",
       "        vertical-align: middle;\n",
       "    }\n",
       "\n",
       "    .dataframe tbody tr th {\n",
       "        vertical-align: top;\n",
       "    }\n",
       "\n",
       "    .dataframe thead th {\n",
       "        text-align: right;\n",
       "    }\n",
       "</style>\n",
       "<table border=\"1\" class=\"dataframe\">\n",
       "  <thead>\n",
       "    <tr style=\"text-align: right;\">\n",
       "      <th></th>\n",
       "      <th>year</th>\n",
       "      <th>quarter</th>\n",
       "      <th>market</th>\n",
       "      <th>dur_stay</th>\n",
       "      <th>mode</th>\n",
       "      <th>mode_detail</th>\n",
       "      <th>nationality</th>\n",
       "      <th>purpose</th>\n",
       "      <th>sex</th>\n",
       "      <th>age</th>\n",
       "      <th>package</th>\n",
       "      <th>visits</th>\n",
       "      <th>spend</th>\n",
       "      <th>nights</th>\n",
       "      <th>sample</th>\n",
       "      <th>per_tourist</th>\n",
       "    </tr>\n",
       "  </thead>\n",
       "  <tbody>\n",
       "    <tr>\n",
       "      <td>0</td>\n",
       "      <td>2002</td>\n",
       "      <td>Q1</td>\n",
       "      <td>Belgium</td>\n",
       "      <td>Nil  nights</td>\n",
       "      <td>Air</td>\n",
       "      <td>Air</td>\n",
       "      <td>UK</td>\n",
       "      <td>Business</td>\n",
       "      <td>Male</td>\n",
       "      <td>25-34</td>\n",
       "      <td>Independent</td>\n",
       "      <td>1.288285</td>\n",
       "      <td>0.034823</td>\n",
       "      <td>0.0</td>\n",
       "      <td>2</td>\n",
       "      <td>0.02703</td>\n",
       "    </tr>\n",
       "    <tr>\n",
       "      <td>1</td>\n",
       "      <td>2002</td>\n",
       "      <td>Q1</td>\n",
       "      <td>Belgium</td>\n",
       "      <td>Nil  nights</td>\n",
       "      <td>Air</td>\n",
       "      <td>Air</td>\n",
       "      <td>UK</td>\n",
       "      <td>Business</td>\n",
       "      <td>Male</td>\n",
       "      <td>35-44</td>\n",
       "      <td>Independent</td>\n",
       "      <td>0.522022</td>\n",
       "      <td>0.032365</td>\n",
       "      <td>0.0</td>\n",
       "      <td>2</td>\n",
       "      <td>0.06200</td>\n",
       "    </tr>\n",
       "    <tr>\n",
       "      <td>2</td>\n",
       "      <td>2002</td>\n",
       "      <td>Q1</td>\n",
       "      <td>Belgium</td>\n",
       "      <td>Nil  nights</td>\n",
       "      <td>Air</td>\n",
       "      <td>Air</td>\n",
       "      <td>UK</td>\n",
       "      <td>Business</td>\n",
       "      <td>Male</td>\n",
       "      <td>45-54</td>\n",
       "      <td>Independent</td>\n",
       "      <td>0.347127</td>\n",
       "      <td>0.056235</td>\n",
       "      <td>0.0</td>\n",
       "      <td>1</td>\n",
       "      <td>0.16200</td>\n",
       "    </tr>\n",
       "    <tr>\n",
       "      <td>3</td>\n",
       "      <td>2002</td>\n",
       "      <td>Q1</td>\n",
       "      <td>Belgium</td>\n",
       "      <td>Nil  nights</td>\n",
       "      <td>Air</td>\n",
       "      <td>Air</td>\n",
       "      <td>UK</td>\n",
       "      <td>Business</td>\n",
       "      <td>Male</td>\n",
       "      <td>55-64</td>\n",
       "      <td>Independent</td>\n",
       "      <td>0.941973</td>\n",
       "      <td>0.025433</td>\n",
       "      <td>0.0</td>\n",
       "      <td>1</td>\n",
       "      <td>0.02700</td>\n",
       "    </tr>\n",
       "    <tr>\n",
       "      <td>4</td>\n",
       "      <td>2002</td>\n",
       "      <td>Q1</td>\n",
       "      <td>Belgium</td>\n",
       "      <td>Nil  nights</td>\n",
       "      <td>Air</td>\n",
       "      <td>Air</td>\n",
       "      <td>UK</td>\n",
       "      <td>Transit</td>\n",
       "      <td>Male</td>\n",
       "      <td>25-34</td>\n",
       "      <td>Independent</td>\n",
       "      <td>0.000000</td>\n",
       "      <td>0.000000</td>\n",
       "      <td>0.0</td>\n",
       "      <td>1</td>\n",
       "      <td>0.00000</td>\n",
       "    </tr>\n",
       "  </tbody>\n",
       "</table>\n",
       "</div>"
      ],
      "text/plain": [
       "   year quarter   market     dur_stay mode mode_detail nationality   purpose  \\\n",
       "0  2002      Q1  Belgium  Nil  nights  Air         Air          UK  Business   \n",
       "1  2002      Q1  Belgium  Nil  nights  Air         Air          UK  Business   \n",
       "2  2002      Q1  Belgium  Nil  nights  Air         Air          UK  Business   \n",
       "3  2002      Q1  Belgium  Nil  nights  Air         Air          UK  Business   \n",
       "4  2002      Q1  Belgium  Nil  nights  Air         Air          UK   Transit   \n",
       "\n",
       "    sex    age      package    visits     spend  nights  sample  per_tourist  \n",
       "0  Male  25-34  Independent  1.288285  0.034823     0.0       2      0.02703  \n",
       "1  Male  35-44  Independent  0.522022  0.032365     0.0       2      0.06200  \n",
       "2  Male  45-54  Independent  0.347127  0.056235     0.0       1      0.16200  \n",
       "3  Male  55-64  Independent  0.941973  0.025433     0.0       1      0.02700  \n",
       "4  Male  25-34  Independent  0.000000  0.000000     0.0       1      0.00000  "
      ]
     },
     "execution_count": 22,
     "metadata": {},
     "output_type": "execute_result"
    }
   ],
   "source": [
    "df.head()"
   ]
  },
  {
   "cell_type": "markdown",
   "metadata": {},
   "source": [
    "1. What was the year with highest number of tourists?\n",
    "2. Which market had the highest total quarterly visits to London?\n",
    "3. What is the most popular mode of travel in 2017 for tourists from France?\n",
    "4. Which market was the source of the most visitss for Business purpose in 2017?\n",
    "5. What are the portions of visits according to purpose during each year?\n",
    "6. Which market had the highest number of visitors traveled by the sea?\n",
    "7. What age group traveled to London the most in 2014-2018 period?\n",
    "8. is there any relationship between purpose of visit and money spent in UK, what graphs could best explain this relationship?\n",
    "9. Is there any significant difference using Air transportation beween female and male?\n",
    "10. Explain overnight visits for a decade between 2002-2012 based on purpose of visit, which grapph do you think best illustrate the case.\n",
    "\n"
   ]
  },
  {
   "cell_type": "markdown",
   "metadata": {},
   "source": [
    "## What was the year with highest number of tourists?"
   ]
  },
  {
   "cell_type": "code",
   "execution_count": 23,
   "metadata": {
    "scrolled": true
   },
   "outputs": [
    {
     "data": {
      "image/png": "[encoded data removed]",
      "text/plain": [
       "<Figure size 576x360 with 1 Axes>"
      ]
     },
     "metadata": {},
     "output_type": "display_data"
    }
   ],
   "source": [
    "yearly_visits = df.groupby('year').visits.sum()\n",
    "top5_yearly = yearly_visits.sort_values(ascending = False).head(5)\n",
    "\n",
    "sns.set()\n",
    "_ = plt.figure(figsize = (8, 5))\n",
    "_ = plt.bar(top5_yearly.index, top5_yearly.values, width = 0.6, color=('brown', 'pink', 'pink', 'pink', 'pink'))\n",
    "_ = plt.xlabel('Years')\n",
    "_ = plt.ylabel('Number of Visitors (in 000s)')\n",
    "_ = plt.title('Years with Highest Number of Visitors')"
   ]
  },
  {
   "cell_type": "markdown",
   "metadata": {},
   "source": [
    "## Which market had the highest total quarterly visits to London?"
   ]
  },
  {
   "cell_type": "code",
   "execution_count": 24,
   "metadata": {
    "scrolled": true
   },
   "outputs": [
    {
     "data": {
      "image/png": "[encoded data removed]",
      "text/plain": [
       "<Figure size 576x360 with 1 Axes>"
      ]
     },
     "metadata": {},
     "output_type": "display_data"
    }
   ],
   "source": [
    "quarterly = df.groupby(['quarter', 'market']).visits.sum().unstack()\n",
    "\n",
    "countries = pd.Series(quarterly.idxmax(axis = 1), name = 'Country')\n",
    "visits = pd.Series(quarterly.max(axis = 1), name = 'Visits')\n",
    "\n",
    "quarterly = pd.concat([countries, visits], axis = 1).reset_index()\n",
    "quarterly['QCountry'] = quarterly.quarter + ' ' + quarterly.Country\n",
    "quarterly.drop(columns = ['quarter', 'Country'], inplace = True)\n",
    "\n",
    "_ = plt.figure(figsize = (8, 5))\n",
    "_ = plt.bar(quarterly.QCountry, quarterly.Visits, color = 'brown', width = 0.6)\n",
    "_ = plt.xlabel('Countries')\n",
    "_ = plt.ylabel('Number of Visitors')\n",
    "_ = plt.title('Countries with Highest Highest Quarterly Visits')"
   ]
  },
  {
   "cell_type": "markdown",
   "metadata": {},
   "source": [
    "## What is the most popular mode of travel in 2017 for tourists from France?"
   ]
  },
  {
   "cell_type": "code",
   "execution_count": 25,
   "metadata": {},
   "outputs": [
    {
     "data": {
      "image/png": "[encoded data removed]",
      "text/plain": [
       "<Figure size 432x288 with 1 Axes>"
      ]
     },
     "metadata": {},
     "output_type": "display_data"
    }
   ],
   "source": [
    "#Question3\n",
    "grouped = df[(df['year'] == 2017) & (df['market'] == 'France')].groupby('mode').visits.sum()\n",
    "sorted_group = pd.DataFrame(grouped.sort_values(ascending = False))\n",
    "\n",
    "my_explode = (0, 0, 0)\n",
    "my_colors = ['lightblue','lightsteelblue','silver']\n",
    "\n",
    "_ = plt.pie(sorted_group['visits'], labels = ['Air', 'Tunnel', 'Sea'], autopct='%1.1f%%', radius = 1.5, explode = my_explode, shadow = True, colors = my_colors)\n",
    "\n",
    "_ = plt.title('Modes of Visits')\n",
    "_ = plt.axis('equal')"
   ]
  },
  {
   "cell_type": "markdown",
   "metadata": {},
   "source": [
    "## Which market was the source of the most visits for Business purpose in 2017?"
   ]
  },
  {
   "cell_type": "code",
   "execution_count": 26,
   "metadata": {
    "scrolled": true
   },
   "outputs": [
    {
     "data": {
      "image/png": "[encoded data removed]",
      "text/plain": [
       "<Figure size 576x360 with 1 Axes>"
      ]
     },
     "metadata": {},
     "output_type": "display_data"
    }
   ],
   "source": [
    "business2017 = df[(df.purpose == 'Business') & (df.year == 2017)]\n",
    "business2017_market = pd.DataFrame(business2017.groupby(['market', 'sex'])['visits'].sum().unstack(), columns = ['Female', 'Male', 'NA'])\n",
    "\n",
    "business2017_market['Total'] = business2017_market.Female + business2017_market.Male\n",
    "business2017_market.drop(columns = 'NA', inplace = True)\n",
    "business2017_top5market = business2017_market.sort_values(by = 'Total', ascending = False).head()\n",
    "\n",
    "_ = plt.figure(figsize = (8, 5))\n",
    "_ = plt.bar(business2017_top5market.index, business2017_top5market.Total, color = 'darkblue')\n",
    "_ = plt.bar(business2017_top5market.index, business2017_top5market['Female'], color = 'red')"
   ]
  },
  {
   "cell_type": "markdown",
   "metadata": {},
   "source": [
    "## What are the portions of visits according to purpose during each year?"
   ]
  },
  {
   "cell_type": "code",
   "execution_count": 27,
   "metadata": {
    "scrolled": true
   },
   "outputs": [
    {
     "data": {
      "text/html": [
       "<div>\n",
       "<style scoped>\n",
       "    .dataframe tbody tr th:only-of-type {\n",
       "        vertical-align: middle;\n",
       "    }\n",
       "\n",
       "    .dataframe tbody tr th {\n",
       "        vertical-align: top;\n",
       "    }\n",
       "\n",
       "    .dataframe thead th {\n",
       "        text-align: right;\n",
       "    }\n",
       "</style>\n",
       "<table border=\"1\" class=\"dataframe\">\n",
       "  <thead>\n",
       "    <tr style=\"text-align: right;\">\n",
       "      <th>purpose</th>\n",
       "      <th>Business</th>\n",
       "      <th>Holiday</th>\n",
       "      <th>Miscellaneous</th>\n",
       "      <th>Study</th>\n",
       "      <th>Transit</th>\n",
       "      <th>VFR</th>\n",
       "    </tr>\n",
       "    <tr>\n",
       "      <th>year</th>\n",
       "      <th></th>\n",
       "      <th></th>\n",
       "      <th></th>\n",
       "      <th></th>\n",
       "      <th></th>\n",
       "      <th></th>\n",
       "    </tr>\n",
       "  </thead>\n",
       "  <tbody>\n",
       "    <tr>\n",
       "      <td>2002</td>\n",
       "      <td>29.6</td>\n",
       "      <td>32.0</td>\n",
       "      <td>9.1</td>\n",
       "      <td>2.8</td>\n",
       "      <td>0.0</td>\n",
       "      <td>26.5</td>\n",
       "    </tr>\n",
       "    <tr>\n",
       "      <td>2003</td>\n",
       "      <td>28.2</td>\n",
       "      <td>32.3</td>\n",
       "      <td>8.8</td>\n",
       "      <td>2.5</td>\n",
       "      <td>0.0</td>\n",
       "      <td>28.2</td>\n",
       "    </tr>\n",
       "    <tr>\n",
       "      <td>2004</td>\n",
       "      <td>26.9</td>\n",
       "      <td>33.4</td>\n",
       "      <td>9.2</td>\n",
       "      <td>2.1</td>\n",
       "      <td>0.0</td>\n",
       "      <td>28.3</td>\n",
       "    </tr>\n",
       "    <tr>\n",
       "      <td>2005</td>\n",
       "      <td>27.3</td>\n",
       "      <td>32.4</td>\n",
       "      <td>9.3</td>\n",
       "      <td>2.0</td>\n",
       "      <td>0.0</td>\n",
       "      <td>29.0</td>\n",
       "    </tr>\n",
       "    <tr>\n",
       "      <td>2006</td>\n",
       "      <td>27.6</td>\n",
       "      <td>32.3</td>\n",
       "      <td>9.2</td>\n",
       "      <td>2.1</td>\n",
       "      <td>0.0</td>\n",
       "      <td>28.8</td>\n",
       "    </tr>\n",
       "    <tr>\n",
       "      <td>2007</td>\n",
       "      <td>27.0</td>\n",
       "      <td>32.8</td>\n",
       "      <td>8.6</td>\n",
       "      <td>2.0</td>\n",
       "      <td>0.0</td>\n",
       "      <td>29.7</td>\n",
       "    </tr>\n",
       "    <tr>\n",
       "      <td>2008</td>\n",
       "      <td>25.5</td>\n",
       "      <td>34.3</td>\n",
       "      <td>8.0</td>\n",
       "      <td>1.8</td>\n",
       "      <td>0.0</td>\n",
       "      <td>30.5</td>\n",
       "    </tr>\n",
       "    <tr>\n",
       "      <td>2009</td>\n",
       "      <td>22.0</td>\n",
       "      <td>38.2</td>\n",
       "      <td>8.7</td>\n",
       "      <td>1.7</td>\n",
       "      <td>0.0</td>\n",
       "      <td>29.4</td>\n",
       "    </tr>\n",
       "    <tr>\n",
       "      <td>2010</td>\n",
       "      <td>22.8</td>\n",
       "      <td>39.2</td>\n",
       "      <td>8.2</td>\n",
       "      <td>1.7</td>\n",
       "      <td>0.0</td>\n",
       "      <td>28.2</td>\n",
       "    </tr>\n",
       "    <tr>\n",
       "      <td>2011</td>\n",
       "      <td>23.5</td>\n",
       "      <td>39.0</td>\n",
       "      <td>7.2</td>\n",
       "      <td>1.6</td>\n",
       "      <td>0.0</td>\n",
       "      <td>28.7</td>\n",
       "    </tr>\n",
       "    <tr>\n",
       "      <td>2012</td>\n",
       "      <td>23.9</td>\n",
       "      <td>38.5</td>\n",
       "      <td>7.2</td>\n",
       "      <td>1.6</td>\n",
       "      <td>0.0</td>\n",
       "      <td>28.8</td>\n",
       "    </tr>\n",
       "    <tr>\n",
       "      <td>2013</td>\n",
       "      <td>24.2</td>\n",
       "      <td>38.7</td>\n",
       "      <td>7.0</td>\n",
       "      <td>1.6</td>\n",
       "      <td>0.0</td>\n",
       "      <td>28.5</td>\n",
       "    </tr>\n",
       "    <tr>\n",
       "      <td>2014</td>\n",
       "      <td>24.1</td>\n",
       "      <td>39.5</td>\n",
       "      <td>6.2</td>\n",
       "      <td>1.9</td>\n",
       "      <td>0.0</td>\n",
       "      <td>28.4</td>\n",
       "    </tr>\n",
       "    <tr>\n",
       "      <td>2015</td>\n",
       "      <td>24.5</td>\n",
       "      <td>38.4</td>\n",
       "      <td>6.6</td>\n",
       "      <td>1.6</td>\n",
       "      <td>0.0</td>\n",
       "      <td>28.9</td>\n",
       "    </tr>\n",
       "    <tr>\n",
       "      <td>2016</td>\n",
       "      <td>24.4</td>\n",
       "      <td>37.0</td>\n",
       "      <td>6.5</td>\n",
       "      <td>1.4</td>\n",
       "      <td>0.0</td>\n",
       "      <td>30.8</td>\n",
       "    </tr>\n",
       "    <tr>\n",
       "      <td>2017</td>\n",
       "      <td>22.4</td>\n",
       "      <td>39.2</td>\n",
       "      <td>6.5</td>\n",
       "      <td>1.2</td>\n",
       "      <td>0.0</td>\n",
       "      <td>30.6</td>\n",
       "    </tr>\n",
       "    <tr>\n",
       "      <td>2018</td>\n",
       "      <td>22.3</td>\n",
       "      <td>39.9</td>\n",
       "      <td>5.5</td>\n",
       "      <td>1.3</td>\n",
       "      <td>0.0</td>\n",
       "      <td>31.0</td>\n",
       "    </tr>\n",
       "    <tr>\n",
       "      <td>2019</td>\n",
       "      <td>21.8</td>\n",
       "      <td>41.5</td>\n",
       "      <td>5.5</td>\n",
       "      <td>1.3</td>\n",
       "      <td>0.0</td>\n",
       "      <td>29.8</td>\n",
       "    </tr>\n",
       "  </tbody>\n",
       "</table>\n",
       "</div>"
      ],
      "text/plain": [
       "purpose  Business  Holiday  Miscellaneous  Study  Transit   VFR\n",
       "year                                                           \n",
       "2002         29.6     32.0            9.1    2.8      0.0  26.5\n",
       "2003         28.2     32.3            8.8    2.5      0.0  28.2\n",
       "2004         26.9     33.4            9.2    2.1      0.0  28.3\n",
       "2005         27.3     32.4            9.3    2.0      0.0  29.0\n",
       "2006         27.6     32.3            9.2    2.1      0.0  28.8\n",
       "2007         27.0     32.8            8.6    2.0      0.0  29.7\n",
       "2008         25.5     34.3            8.0    1.8      0.0  30.5\n",
       "2009         22.0     38.2            8.7    1.7      0.0  29.4\n",
       "2010         22.8     39.2            8.2    1.7      0.0  28.2\n",
       "2011         23.5     39.0            7.2    1.6      0.0  28.7\n",
       "2012         23.9     38.5            7.2    1.6      0.0  28.8\n",
       "2013         24.2     38.7            7.0    1.6      0.0  28.5\n",
       "2014         24.1     39.5            6.2    1.9      0.0  28.4\n",
       "2015         24.5     38.4            6.6    1.6      0.0  28.9\n",
       "2016         24.4     37.0            6.5    1.4      0.0  30.8\n",
       "2017         22.4     39.2            6.5    1.2      0.0  30.6\n",
       "2018         22.3     39.9            5.5    1.3      0.0  31.0\n",
       "2019         21.8     41.5            5.5    1.3      0.0  29.8"
      ]
     },
     "execution_count": 27,
     "metadata": {},
     "output_type": "execute_result"
    }
   ],
   "source": [
    "#Question 5\n",
    "purpose_by_year = pd.pivot_table(df, values = 'visits', index = 'year', columns = 'purpose', \n",
    "                                 aggfunc = np.sum, margins = True)\n",
    "\n",
    "for column in purpose_by_year.columns:\n",
    "    purpose_by_year[column] = ((purpose_by_year[column]/purpose_by_year['All'])*100).round(1)\n",
    "    \n",
    "purpose_by_year.drop('All', axis = 1, inplace = True)\n",
    "purpose_by_year.drop('All', axis = 0, inplace = True)\n",
    "\n",
    "purpose_by_year\n"
   ]
  },
  {
   "cell_type": "code",
   "execution_count": 28,
   "metadata": {},
   "outputs": [
    {
     "data": {
      "image/png": "[encoded data removed]",
      "text/plain": [
       "<Figure size 864x720 with 1 Axes>"
      ]
     },
     "metadata": {},
     "output_type": "display_data"
    }
   ],
   "source": [
    "_ = plt.figure(figsize = (12, 10))\n",
    "\n",
    "for column in purpose_by_year.columns:\n",
    "    \n",
    "    _ = plt.plot(purpose_by_year.index, purpose_by_year[column], marker='o')\n",
    "    \n",
    "_ = plt.xlabel('Year')\n",
    "_ = plt.ylabel('Proportions of Visitors')\n",
    "_ = plt.title('% of Visitors(#) During 2002-2019')\n",
    "_ = plt.legend(('VFR', 'Holiday', 'Miscellaneous', 'Study', 'Transit', 'Business'))\n",
    "plt.show()\n"
   ]
  },
  {
   "cell_type": "code",
   "execution_count": 29,
   "metadata": {},
   "outputs": [
    {
     "data": {
      "image/png": "[encoded data removed]",
      "text/plain": [
       "<Figure size 864x720 with 1 Axes>"
      ]
     },
     "metadata": {},
     "output_type": "display_data"
    }
   ],
   "source": [
    "_ = plt.figure(figsize = (12, 10))\n",
    "\n",
    "\n",
    "for column in ['Business', 'Holiday', 'VFR']:\n",
    "    \n",
    "    _ = plt.plot(purpose_by_year.index, purpose_by_year[column], marker='o')\n",
    "\n",
    "_ = plt.xlabel('Year')\n",
    "_ = plt.ylabel('Proportions of Visitors')\n",
    "_ = plt.title('% of Visitors(#) During 2002-2019')\n",
    "_ = plt.legend(('VFR', 'Holiday', 'Business'))\n",
    "plt.show()"
   ]
  },
  {
   "cell_type": "code",
   "execution_count": null,
   "metadata": {},
   "outputs": [],
   "source": []
  },
  {
   "cell_type": "code",
   "execution_count": null,
   "metadata": {},
   "outputs": [],
   "source": []
  },
  {
   "cell_type": "markdown",
   "metadata": {},
   "source": [
    "## Which market had the highest number of visitors traveled by the sea?"
   ]
  },
  {
   "cell_type": "code",
   "execution_count": 30,
   "metadata": {},
   "outputs": [
    {
     "data": {
      "image/png": "[encoded data removed]",
      "text/plain": [
       "<Figure size 576x360 with 1 Axes>"
      ]
     },
     "metadata": {},
     "output_type": "display_data"
    }
   ],
   "source": [
    "sea_visit = df[df['mode'] == 'Sea'].groupby('market').visits.sum().sort_values(ascending = False).head()\n",
    "\n",
    "_ = plt.figure(figsize = (8, 5))\n",
    "_ = plt.bar(sea_visit.index, sea_visit.values, color = 'blue')\n",
    "_ = plt.xlabel('Countries')\n",
    "_ = plt.ylabel('Number of Visitors')\n",
    "_ = plt.title('Visits by Sea')\n",
    "plt.show()"
   ]
  },
  {
   "cell_type": "markdown",
   "metadata": {},
   "source": [
    "## What age group traveled to London the most in 2014-2018 period?"
   ]
  },
  {
   "cell_type": "code",
   "execution_count": 31,
   "metadata": {
    "scrolled": false
   },
   "outputs": [
    {
     "data": {
      "image/png": "[encoded data removed]",
      "text/plain": [
       "<Figure size 576x360 with 1 Axes>"
      ]
     },
     "metadata": {},
     "output_type": "display_data"
    }
   ],
   "source": [
    "travel14_18 = df[(df['year'] > 2013) & (df['year'] < 2019)]\n",
    "age14_18 = travel14_18.groupby('age').visits.sum()\n",
    "\n",
    "_ = plt.figure(figsize = (8, 5))\n",
    "_ = plt.bar(age14_18.index, age14_18.values, color = 'darkblue')\n",
    "_ = plt.xlabel('Age Groups')\n",
    "_ = plt.ylabel('Number of Visitors (in 000s)')\n",
    "_ = plt.title('Visits by Age Groups')\n",
    "plt.show()"
   ]
  },
  {
   "cell_type": "code",
   "execution_count": 32,
   "metadata": {},
   "outputs": [
    {
     "data": {
      "text/plain": [
       "<BarContainer object of 6 artists>"
      ]
     },
     "execution_count": 32,
     "metadata": {},
     "output_type": "execute_result"
    },
    {
     "data": {
      "image/png": "[encoded data removed]",
      "text/plain": [
       "<Figure size 1008x432 with 2 Axes>"
      ]
     },
     "metadata": {},
     "output_type": "display_data"
    }
   ],
   "source": [
    "spent_by_purpose = df.groupby('purpose').spend.sum()\n",
    "visits_by_purpose = df.groupby('purpose').visits.sum()\n",
    "\n",
    "fig, axs = plt.subplots(1, 2, figsize = (14, 6))\n",
    "axs[0].bar(spent_by_purpose.index, spent_by_purpose.values, color = 'brown')\n",
    "axs[1].bar(visits_by_purpose.index, visits_by_purpose.values, color = 'brown')"
   ]
  },
  {
   "cell_type": "code",
   "execution_count": null,
   "metadata": {},
   "outputs": [],
   "source": []
  },
  {
   "cell_type": "markdown",
   "metadata": {},
   "source": [
    "## STATISTICAL ANALYSIS"
   ]
  },
  {
   "cell_type": "code",
   "execution_count": 33,
   "metadata": {},
   "outputs": [
    {
     "name": "stdout",
     "output_type": "stream",
     "text": [
      "stat=0.312, p=0.000\n",
      "Probably not Gaussian\n"
     ]
    },
    {
     "name": "stderr",
     "output_type": "stream",
     "text": [
      "/Users/azarnajafli/anaconda3/lib/python3.7/site-packages/scipy/stats/morestats.py:1660: UserWarning: p-value may not be accurate for N > 5000.\n",
      "  warnings.warn(\"p-value may not be accurate for N > 5000.\")\n"
     ]
    }
   ],
   "source": [
    "data = df['spend']\n",
    "stat, p = shapiro(data)\n",
    "print('stat=%.3f, p=%.3f' % (stat, p))\n",
    "if p > 0.05:\n",
    "    print('Probably Gaussian')\n",
    "else:\n",
    "    print('Probably not Gaussian')"
   ]
  },
  {
   "cell_type": "code",
   "execution_count": 36,
   "metadata": {},
   "outputs": [
    {
     "name": "stdout",
     "output_type": "stream",
     "text": [
      "0.7251985488202447\n",
      "0.7345870630794838\n"
     ]
    }
   ],
   "source": [
    "mean_val = np.mean(df['spend'])\n",
    "std = np.std(df['spend'])\n",
    "\n",
    "degree_f = len(df['spend']) - 1\n",
    "critical = t.ppf(0.05, degree_f)\n",
    "SE = std/np.sqrt(len(df['spend']))\n",
    "up_lim = mean_val + (critical * SE)\n",
    "low_lim = mean_val - (critical * SE)\n",
    "print(up_lim)\n",
    "print(low_lim)"
   ]
  },
  {
   "cell_type": "code",
   "execution_count": null,
   "metadata": {},
   "outputs": [],
   "source": []
  },
  {
   "cell_type": "markdown",
   "metadata": {},
   "source": [
    "H0: Males and females spend the same\n",
    "\n",
    "Ha: Males and females spend different "
   ]
  },
  {
   "cell_type": "code",
   "execution_count": 56,
   "metadata": {},
   "outputs": [
    {
     "name": "stdout",
     "output_type": "stream",
     "text": [
      "p_value is:  2.2572766880972203e-36\n",
      "reject null hypothesis\n"
     ]
    }
   ],
   "source": [
    "sample0 = df[df['sex'] == 'Male'].spend\n",
    "sample1 = df[df['sex'] == 'Female'].spend\n",
    "t, p = ttest_ind(sample0, sample1)\n",
    "\n",
    "print(\"p_value is: \", p)\n",
    "if p<0.05:\n",
    "    print('reject null hypothesis')\n",
    "else:\n",
    "    print('accept null hypothesis')"
   ]
  },
  {
   "cell_type": "code",
   "execution_count": null,
   "metadata": {},
   "outputs": [],
   "source": []
  },
  {
   "cell_type": "markdown",
   "metadata": {},
   "source": [
    "H0: Different age groups spend the same\n",
    "\n",
    "Ha: Different age groups spend different"
   ]
  },
  {
   "cell_type": "code",
   "execution_count": 43,
   "metadata": {},
   "outputs": [
    {
     "name": "stdout",
     "output_type": "stream",
     "text": [
      "p-value for significance is:  5.627741745389378e-140\n",
      "reject null hypothesis\n"
     ]
    }
   ],
   "source": [
    "#ANOVA test\n",
    "df_anova = df[['age','spend']]\n",
    "ages = pd.unique(df_anova.age.values)\n",
    "d_data = {age:df_anova['spend'][df_anova.age == age] for age in ages}\n",
    " \n",
    "F, p = stats.f_oneway(d_data['0 -15'], d_data['16-24'], \n",
    "                      d_data['25-34'], d_data['35-44'], d_data['45-54'], \n",
    "                      d_data['55-64'], d_data['65+'],)\n",
    "print(\"p-value for significance is: \", p)\n",
    "if p<0.05:\n",
    "    print(\"reject null hypothesis\")\n",
    "else:\n",
    "    print(\"accept null hypothesis\")"
   ]
  },
  {
   "cell_type": "code",
   "execution_count": null,
   "metadata": {},
   "outputs": [],
   "source": []
  },
  {
   "cell_type": "markdown",
   "metadata": {},
   "source": [
    "## PREDICTION"
   ]
  },
  {
   "cell_type": "code",
   "execution_count": null,
   "metadata": {},
   "outputs": [],
   "source": []
  },
  {
   "cell_type": "code",
   "execution_count": null,
   "metadata": {},
   "outputs": [],
   "source": []
  },
  {
   "cell_type": "code",
   "execution_count": null,
   "metadata": {},
   "outputs": [],
   "source": []
  },
  {
   "cell_type": "code",
   "execution_count": null,
   "metadata": {},
   "outputs": [],
   "source": []
  },
  {
   "cell_type": "code",
   "execution_count": null,
   "metadata": {},
   "outputs": [],
   "source": []
  },
  {
   "cell_type": "code",
   "execution_count": null,
   "metadata": {},
   "outputs": [],
   "source": []
  },
  {
   "cell_type": "code",
   "execution_count": null,
   "metadata": {},
   "outputs": [],
   "source": []
  },
  {
   "cell_type": "code",
   "execution_count": null,
   "metadata": {},
   "outputs": [],
   "source": []
  }
 ],
 "metadata": {
  "kernelspec": {
   "display_name": "Python 3",
   "language": "python",
   "name": "python3"
  },
  "language_info": {
   "codemirror_mode": {
    "name": "ipython",
    "version": 3
   },
   "file_extension": ".py",
   "mimetype": "text/x-python",
   "name": "python",
   "nbconvert_exporter": "python",
   "pygments_lexer": "ipython3",
   "version": "3.7.3"
  }
 },
 "nbformat": 4,
 "nbformat_minor": 2
}
