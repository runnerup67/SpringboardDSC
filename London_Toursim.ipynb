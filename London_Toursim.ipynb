{
 "cells": [
  {
   "cell_type": "markdown",
   "metadata": {},
   "source": [
    "## EXPLORATORY DATA ANALYSIS"
   ]
  },
  {
   "cell_type": "code",
   "execution_count": 1,
   "metadata": {},
   "outputs": [],
   "source": [
    "#importing libraries\n",
    "\n",
    "import pandas as pd\n",
    "import numpy as np\n",
    "import matplotlib.pyplot as plt\n",
    "import seaborn as sns\n",
    "from scipy import stats\n",
    "from scipy.stats import shapiro\n",
    "from scipy.stats import ttest_ind\n",
    "from scipy.stats import chi2_contingency\n",
    "from scipy.stats import t\n",
    "import xgboost as xgb\n",
    "from sklearn import metrics\n",
    "from sklearn.preprocessing import OneHotEncoder\n",
    "from sklearn.preprocessing import LabelBinarizer\n",
    "from sklearn.preprocessing import scale\n",
    "from sklearn.preprocessing import binarize\n",
    "from sklearn.model_selection import train_test_split\n",
    "from sklearn.model_selection import KFold\n",
    "from sklearn.model_selection import RandomizedSearchCV\n",
    "from sklearn.ensemble import RandomForestClassifier\n",
    "from IPython.display import Image\n",
    "from IPython.core.display import HTML "
   ]
  },
  {
   "cell_type": "code",
   "execution_count": 2,
   "metadata": {},
   "outputs": [
    {
     "data": {
      "text/html": [
       "<div>\n",
       "<style scoped>\n",
       "    .dataframe tbody tr th:only-of-type {\n",
       "        vertical-align: middle;\n",
       "    }\n",
       "\n",
       "    .dataframe tbody tr th {\n",
       "        vertical-align: top;\n",
       "    }\n",
       "\n",
       "    .dataframe thead th {\n",
       "        text-align: right;\n",
       "    }\n",
       "</style>\n",
       "<table border=\"1\" class=\"dataframe\">\n",
       "  <thead>\n",
       "    <tr style=\"text-align: right;\">\n",
       "      <th></th>\n",
       "      <th>year</th>\n",
       "      <th>quarter</th>\n",
       "      <th>market</th>\n",
       "      <th>dur_stay</th>\n",
       "      <th>mode</th>\n",
       "      <th>mode_detail</th>\n",
       "      <th>nationality</th>\n",
       "      <th>purpose</th>\n",
       "      <th>sex</th>\n",
       "      <th>age</th>\n",
       "      <th>package</th>\n",
       "      <th>Visits (000s)</th>\n",
       "      <th>Spend (£m)</th>\n",
       "      <th>Nights (000s)</th>\n",
       "      <th>sample</th>\n",
       "    </tr>\n",
       "  </thead>\n",
       "  <tbody>\n",
       "    <tr>\n",
       "      <td>0</td>\n",
       "      <td>2002</td>\n",
       "      <td>January-March</td>\n",
       "      <td>Belgium</td>\n",
       "      <td>Nil  nights</td>\n",
       "      <td>Air</td>\n",
       "      <td>Air</td>\n",
       "      <td>UK</td>\n",
       "      <td>Business</td>\n",
       "      <td>Male</td>\n",
       "      <td>25-34</td>\n",
       "      <td>Independent</td>\n",
       "      <td>1.288285</td>\n",
       "      <td>0.034823</td>\n",
       "      <td>0.0</td>\n",
       "      <td>2</td>\n",
       "    </tr>\n",
       "    <tr>\n",
       "      <td>1</td>\n",
       "      <td>2002</td>\n",
       "      <td>January-March</td>\n",
       "      <td>Belgium</td>\n",
       "      <td>Nil  nights</td>\n",
       "      <td>Air</td>\n",
       "      <td>Air</td>\n",
       "      <td>UK</td>\n",
       "      <td>Business</td>\n",
       "      <td>Male</td>\n",
       "      <td>35-44</td>\n",
       "      <td>Independent</td>\n",
       "      <td>0.522022</td>\n",
       "      <td>0.032365</td>\n",
       "      <td>0.0</td>\n",
       "      <td>2</td>\n",
       "    </tr>\n",
       "    <tr>\n",
       "      <td>2</td>\n",
       "      <td>2002</td>\n",
       "      <td>January-March</td>\n",
       "      <td>Belgium</td>\n",
       "      <td>Nil  nights</td>\n",
       "      <td>Air</td>\n",
       "      <td>Air</td>\n",
       "      <td>UK</td>\n",
       "      <td>Business</td>\n",
       "      <td>Male</td>\n",
       "      <td>45-54</td>\n",
       "      <td>Independent</td>\n",
       "      <td>0.347127</td>\n",
       "      <td>0.056235</td>\n",
       "      <td>0.0</td>\n",
       "      <td>1</td>\n",
       "    </tr>\n",
       "    <tr>\n",
       "      <td>3</td>\n",
       "      <td>2002</td>\n",
       "      <td>January-March</td>\n",
       "      <td>Belgium</td>\n",
       "      <td>Nil  nights</td>\n",
       "      <td>Air</td>\n",
       "      <td>Air</td>\n",
       "      <td>UK</td>\n",
       "      <td>Business</td>\n",
       "      <td>Male</td>\n",
       "      <td>55-64</td>\n",
       "      <td>Independent</td>\n",
       "      <td>0.941973</td>\n",
       "      <td>0.025433</td>\n",
       "      <td>0.0</td>\n",
       "      <td>1</td>\n",
       "    </tr>\n",
       "    <tr>\n",
       "      <td>4</td>\n",
       "      <td>2002</td>\n",
       "      <td>January-March</td>\n",
       "      <td>Belgium</td>\n",
       "      <td>Nil  nights</td>\n",
       "      <td>Air</td>\n",
       "      <td>Air</td>\n",
       "      <td>UK</td>\n",
       "      <td>Transit</td>\n",
       "      <td>Male</td>\n",
       "      <td>25-34</td>\n",
       "      <td>Independent</td>\n",
       "      <td>0.000000</td>\n",
       "      <td>0.000000</td>\n",
       "      <td>0.0</td>\n",
       "      <td>1</td>\n",
       "    </tr>\n",
       "  </tbody>\n",
       "</table>\n",
       "</div>"
      ],
      "text/plain": [
       "   year        quarter   market     dur_stay mode mode_detail nationality  \\\n",
       "0  2002  January-March  Belgium  Nil  nights  Air         Air          UK   \n",
       "1  2002  January-March  Belgium  Nil  nights  Air         Air          UK   \n",
       "2  2002  January-March  Belgium  Nil  nights  Air         Air          UK   \n",
       "3  2002  January-March  Belgium  Nil  nights  Air         Air          UK   \n",
       "4  2002  January-March  Belgium  Nil  nights  Air         Air          UK   \n",
       "\n",
       "    purpose   sex    age      package  Visits (000s)  Spend (£m)  \\\n",
       "0  Business  Male  25-34  Independent       1.288285    0.034823   \n",
       "1  Business  Male  35-44  Independent       0.522022    0.032365   \n",
       "2  Business  Male  45-54  Independent       0.347127    0.056235   \n",
       "3  Business  Male  55-64  Independent       0.941973    0.025433   \n",
       "4   Transit  Male  25-34  Independent       0.000000    0.000000   \n",
       "\n",
       "   Nights (000s)  sample  \n",
       "0            0.0       2  \n",
       "1            0.0       2  \n",
       "2            0.0       1  \n",
       "3            0.0       1  \n",
       "4            0.0       1  "
      ]
     },
     "execution_count": 2,
     "metadata": {},
     "output_type": "execute_result"
    }
   ],
   "source": [
    "#Importing dataset\n",
    "\n",
    "df = pd.read_csv('tourism.csv', encoding = 'unicode-escape', dtype = None, low_memory = False)\n",
    "\n",
    "df.head()"
   ]
  },
  {
   "cell_type": "code",
   "execution_count": 3,
   "metadata": {},
   "outputs": [],
   "source": [
    "#changing values of quarter column\n",
    "\n",
    "df = df.replace(['January-March', 'April-June', 'July-September', 'October-December'], ['Q1', 'Q2', 'Q3', 'Q4'])"
   ]
  },
  {
   "cell_type": "code",
   "execution_count": 4,
   "metadata": {
    "scrolled": true
   },
   "outputs": [
    {
     "data": {
      "text/plain": [
       "year             0\n",
       "quarter          0\n",
       "market           0\n",
       "dur_stay         0\n",
       "mode             0\n",
       "mode_detail      0\n",
       "nationality      0\n",
       "purpose          0\n",
       "sex              0\n",
       "age              0\n",
       "package          0\n",
       "Visits (000s)    0\n",
       "Spend (£m)       0\n",
       "Nights (000s)    0\n",
       "sample           0\n",
       "dtype: int64"
      ]
     },
     "execution_count": 4,
     "metadata": {},
     "output_type": "execute_result"
    }
   ],
   "source": [
    "#checking number of missing values in each column\n",
    "\n",
    "df.isnull().sum()"
   ]
  },
  {
   "cell_type": "code",
   "execution_count": 5,
   "metadata": {},
   "outputs": [
    {
     "data": {
      "text/plain": [
       "(443010, 15)"
      ]
     },
     "execution_count": 5,
     "metadata": {},
     "output_type": "execute_result"
    }
   ],
   "source": [
    "#checking the shape of data\n",
    "\n",
    "df.shape"
   ]
  },
  {
   "cell_type": "code",
   "execution_count": 6,
   "metadata": {},
   "outputs": [
    {
     "name": "stdout",
     "output_type": "stream",
     "text": [
      "<class 'pandas.core.frame.DataFrame'>\n",
      "RangeIndex: 443010 entries, 0 to 443009\n",
      "Data columns (total 15 columns):\n",
      "year             443010 non-null object\n",
      "quarter          443010 non-null object\n",
      "market           443010 non-null object\n",
      "dur_stay         443010 non-null object\n",
      "mode             443010 non-null object\n",
      "mode_detail      443010 non-null object\n",
      "nationality      443010 non-null object\n",
      "purpose          443010 non-null object\n",
      "sex              443010 non-null object\n",
      "age              443010 non-null object\n",
      "package          443010 non-null object\n",
      "Visits (000s)    443010 non-null float64\n",
      "Spend (£m)       443010 non-null float64\n",
      "Nights (000s)    443010 non-null float64\n",
      "sample           443010 non-null int64\n",
      "dtypes: float64(3), int64(1), object(11)\n",
      "memory usage: 307.6 MB\n"
     ]
    }
   ],
   "source": [
    "#getting information about the dataset\n",
    "\n",
    "df.info(memory_usage='deep')"
   ]
  },
  {
   "cell_type": "code",
   "execution_count": 7,
   "metadata": {},
   "outputs": [
    {
     "data": {
      "text/plain": [
       "year                 18\n",
       "quarter               4\n",
       "market               73\n",
       "dur_stay              6\n",
       "mode                  3\n",
       "mode_detail          11\n",
       "nationality          75\n",
       "purpose               6\n",
       "sex                   3\n",
       "age                   8\n",
       "package               2\n",
       "Visits (000s)    161313\n",
       "Spend (£m)       370326\n",
       "Nights (000s)    288171\n",
       "sample               69\n",
       "dtype: int64"
      ]
     },
     "execution_count": 7,
     "metadata": {},
     "output_type": "execute_result"
    }
   ],
   "source": [
    "#checking number of unique values in each column\n",
    "\n",
    "df.nunique()"
   ]
  },
  {
   "cell_type": "code",
   "execution_count": 8,
   "metadata": {},
   "outputs": [],
   "source": [
    "#changing data types of some columns into category type\n",
    "\n",
    "df[['quarter', 'dur_stay', 'mode', 'mode_detail', 'purpose', 'sex', 'age', 'package']] =  df[['quarter', 'dur_stay', 'mode', 'mode_detail', 'purpose', 'sex', 'age', 'package']].astype('category')"
   ]
  },
  {
   "cell_type": "code",
   "execution_count": 9,
   "metadata": {},
   "outputs": [
    {
     "data": {
      "text/plain": [
       "array(['2002', '2003', '2004', '2005', '2006', '2007', '2008', '2009',\n",
       "       '2010', '2011', '2012', '2013', '2014', '2015', '2016', '2017',\n",
       "       '2018', '2019P'], dtype=object)"
      ]
     },
     "execution_count": 9,
     "metadata": {},
     "output_type": "execute_result"
    }
   ],
   "source": [
    "#inspecting values of year column\n",
    "\n",
    "df.year.unique()"
   ]
  },
  {
   "cell_type": "code",
   "execution_count": 10,
   "metadata": {},
   "outputs": [],
   "source": [
    "#changing value in year column\n",
    "\n",
    "df.year.replace('2019P', '2019', inplace = True)"
   ]
  },
  {
   "cell_type": "code",
   "execution_count": 11,
   "metadata": {},
   "outputs": [],
   "source": [
    "#changing data type of year column\n",
    "\n",
    "df['year'] = df['year'].astype('int64')"
   ]
  },
  {
   "cell_type": "code",
   "execution_count": 12,
   "metadata": {},
   "outputs": [],
   "source": [
    "#renaming some columns \n",
    "\n",
    "col_names = {'Visits (000s)': 'visits', 'Spend (£m)': 'spend', 'Nights (000s)': 'nights'}\n",
    "df = df.rename(columns = col_names)"
   ]
  },
  {
   "cell_type": "code",
   "execution_count": 13,
   "metadata": {
    "scrolled": true
   },
   "outputs": [
    {
     "name": "stdout",
     "output_type": "stream",
     "text": [
      "<class 'pandas.core.frame.DataFrame'>\n",
      "RangeIndex: 443010 entries, 0 to 443009\n",
      "Data columns (total 15 columns):\n",
      "year           443010 non-null int64\n",
      "quarter        443010 non-null category\n",
      "market         443010 non-null object\n",
      "dur_stay       443010 non-null category\n",
      "mode           443010 non-null category\n",
      "mode_detail    443010 non-null category\n",
      "nationality    443010 non-null object\n",
      "purpose        443010 non-null category\n",
      "sex            443010 non-null category\n",
      "age            443010 non-null category\n",
      "package        443010 non-null category\n",
      "visits         443010 non-null float64\n",
      "spend          443010 non-null float64\n",
      "nights         443010 non-null float64\n",
      "sample         443010 non-null int64\n",
      "dtypes: category(8), float64(3), int64(2), object(2)\n",
      "memory usage: 74.8 MB\n"
     ]
    }
   ],
   "source": [
    "#checking info \n",
    "\n",
    "df.info(memory_usage='deep')"
   ]
  },
  {
   "cell_type": "code",
   "execution_count": 14,
   "metadata": {
    "scrolled": true
   },
   "outputs": [
    {
     "data": {
      "text/html": [
       "<div>\n",
       "<style scoped>\n",
       "    .dataframe tbody tr th:only-of-type {\n",
       "        vertical-align: middle;\n",
       "    }\n",
       "\n",
       "    .dataframe tbody tr th {\n",
       "        vertical-align: top;\n",
       "    }\n",
       "\n",
       "    .dataframe thead th {\n",
       "        text-align: right;\n",
       "    }\n",
       "</style>\n",
       "<table border=\"1\" class=\"dataframe\">\n",
       "  <thead>\n",
       "    <tr style=\"text-align: right;\">\n",
       "      <th></th>\n",
       "      <th>year</th>\n",
       "      <th>quarter</th>\n",
       "      <th>market</th>\n",
       "      <th>dur_stay</th>\n",
       "      <th>mode</th>\n",
       "      <th>mode_detail</th>\n",
       "      <th>nationality</th>\n",
       "      <th>purpose</th>\n",
       "      <th>sex</th>\n",
       "      <th>age</th>\n",
       "      <th>package</th>\n",
       "      <th>visits</th>\n",
       "      <th>spend</th>\n",
       "      <th>nights</th>\n",
       "      <th>sample</th>\n",
       "    </tr>\n",
       "  </thead>\n",
       "  <tbody>\n",
       "    <tr>\n",
       "      <td>0</td>\n",
       "      <td>2002</td>\n",
       "      <td>Q1</td>\n",
       "      <td>Belgium</td>\n",
       "      <td>Nil  nights</td>\n",
       "      <td>Air</td>\n",
       "      <td>Air</td>\n",
       "      <td>UK</td>\n",
       "      <td>Business</td>\n",
       "      <td>Male</td>\n",
       "      <td>25-34</td>\n",
       "      <td>Independent</td>\n",
       "      <td>1.288285</td>\n",
       "      <td>0.034823</td>\n",
       "      <td>0.0</td>\n",
       "      <td>2</td>\n",
       "    </tr>\n",
       "    <tr>\n",
       "      <td>1</td>\n",
       "      <td>2002</td>\n",
       "      <td>Q1</td>\n",
       "      <td>Belgium</td>\n",
       "      <td>Nil  nights</td>\n",
       "      <td>Air</td>\n",
       "      <td>Air</td>\n",
       "      <td>UK</td>\n",
       "      <td>Business</td>\n",
       "      <td>Male</td>\n",
       "      <td>35-44</td>\n",
       "      <td>Independent</td>\n",
       "      <td>0.522022</td>\n",
       "      <td>0.032365</td>\n",
       "      <td>0.0</td>\n",
       "      <td>2</td>\n",
       "    </tr>\n",
       "    <tr>\n",
       "      <td>2</td>\n",
       "      <td>2002</td>\n",
       "      <td>Q1</td>\n",
       "      <td>Belgium</td>\n",
       "      <td>Nil  nights</td>\n",
       "      <td>Air</td>\n",
       "      <td>Air</td>\n",
       "      <td>UK</td>\n",
       "      <td>Business</td>\n",
       "      <td>Male</td>\n",
       "      <td>45-54</td>\n",
       "      <td>Independent</td>\n",
       "      <td>0.347127</td>\n",
       "      <td>0.056235</td>\n",
       "      <td>0.0</td>\n",
       "      <td>1</td>\n",
       "    </tr>\n",
       "    <tr>\n",
       "      <td>3</td>\n",
       "      <td>2002</td>\n",
       "      <td>Q1</td>\n",
       "      <td>Belgium</td>\n",
       "      <td>Nil  nights</td>\n",
       "      <td>Air</td>\n",
       "      <td>Air</td>\n",
       "      <td>UK</td>\n",
       "      <td>Business</td>\n",
       "      <td>Male</td>\n",
       "      <td>55-64</td>\n",
       "      <td>Independent</td>\n",
       "      <td>0.941973</td>\n",
       "      <td>0.025433</td>\n",
       "      <td>0.0</td>\n",
       "      <td>1</td>\n",
       "    </tr>\n",
       "    <tr>\n",
       "      <td>4</td>\n",
       "      <td>2002</td>\n",
       "      <td>Q1</td>\n",
       "      <td>Belgium</td>\n",
       "      <td>Nil  nights</td>\n",
       "      <td>Air</td>\n",
       "      <td>Air</td>\n",
       "      <td>UK</td>\n",
       "      <td>Transit</td>\n",
       "      <td>Male</td>\n",
       "      <td>25-34</td>\n",
       "      <td>Independent</td>\n",
       "      <td>0.000000</td>\n",
       "      <td>0.000000</td>\n",
       "      <td>0.0</td>\n",
       "      <td>1</td>\n",
       "    </tr>\n",
       "  </tbody>\n",
       "</table>\n",
       "</div>"
      ],
      "text/plain": [
       "   year quarter   market     dur_stay mode mode_detail nationality   purpose  \\\n",
       "0  2002      Q1  Belgium  Nil  nights  Air         Air          UK  Business   \n",
       "1  2002      Q1  Belgium  Nil  nights  Air         Air          UK  Business   \n",
       "2  2002      Q1  Belgium  Nil  nights  Air         Air          UK  Business   \n",
       "3  2002      Q1  Belgium  Nil  nights  Air         Air          UK  Business   \n",
       "4  2002      Q1  Belgium  Nil  nights  Air         Air          UK   Transit   \n",
       "\n",
       "    sex    age      package    visits     spend  nights  sample  \n",
       "0  Male  25-34  Independent  1.288285  0.034823     0.0       2  \n",
       "1  Male  35-44  Independent  0.522022  0.032365     0.0       2  \n",
       "2  Male  45-54  Independent  0.347127  0.056235     0.0       1  \n",
       "3  Male  55-64  Independent  0.941973  0.025433     0.0       1  \n",
       "4  Male  25-34  Independent  0.000000  0.000000     0.0       1  "
      ]
     },
     "execution_count": 14,
     "metadata": {},
     "output_type": "execute_result"
    }
   ],
   "source": [
    "df.head()"
   ]
  },
  {
   "cell_type": "code",
   "execution_count": 15,
   "metadata": {},
   "outputs": [],
   "source": [
    "#adding 'per_tourist' column\n",
    "\n",
    "df['per_tourist'] = df.spend / df.visits\n",
    "df.per_tourist.fillna(0, inplace = True)"
   ]
  },
  {
   "cell_type": "code",
   "execution_count": 16,
   "metadata": {},
   "outputs": [
    {
     "data": {
      "text/html": [
       "<div>\n",
       "<style scoped>\n",
       "    .dataframe tbody tr th:only-of-type {\n",
       "        vertical-align: middle;\n",
       "    }\n",
       "\n",
       "    .dataframe tbody tr th {\n",
       "        vertical-align: top;\n",
       "    }\n",
       "\n",
       "    .dataframe thead th {\n",
       "        text-align: right;\n",
       "    }\n",
       "</style>\n",
       "<table border=\"1\" class=\"dataframe\">\n",
       "  <thead>\n",
       "    <tr style=\"text-align: right;\">\n",
       "      <th></th>\n",
       "      <th>year</th>\n",
       "      <th>quarter</th>\n",
       "      <th>market</th>\n",
       "      <th>dur_stay</th>\n",
       "      <th>mode</th>\n",
       "      <th>mode_detail</th>\n",
       "      <th>nationality</th>\n",
       "      <th>purpose</th>\n",
       "      <th>sex</th>\n",
       "      <th>age</th>\n",
       "      <th>package</th>\n",
       "      <th>visits</th>\n",
       "      <th>spend</th>\n",
       "      <th>nights</th>\n",
       "      <th>sample</th>\n",
       "      <th>per_tourist</th>\n",
       "    </tr>\n",
       "  </thead>\n",
       "  <tbody>\n",
       "    <tr>\n",
       "      <td>0</td>\n",
       "      <td>2002</td>\n",
       "      <td>Q1</td>\n",
       "      <td>Belgium</td>\n",
       "      <td>Nil  nights</td>\n",
       "      <td>Air</td>\n",
       "      <td>Air</td>\n",
       "      <td>UK</td>\n",
       "      <td>Business</td>\n",
       "      <td>Male</td>\n",
       "      <td>25-34</td>\n",
       "      <td>Independent</td>\n",
       "      <td>1.288285</td>\n",
       "      <td>0.034823</td>\n",
       "      <td>0.0</td>\n",
       "      <td>2</td>\n",
       "      <td>0.02703</td>\n",
       "    </tr>\n",
       "    <tr>\n",
       "      <td>1</td>\n",
       "      <td>2002</td>\n",
       "      <td>Q1</td>\n",
       "      <td>Belgium</td>\n",
       "      <td>Nil  nights</td>\n",
       "      <td>Air</td>\n",
       "      <td>Air</td>\n",
       "      <td>UK</td>\n",
       "      <td>Business</td>\n",
       "      <td>Male</td>\n",
       "      <td>35-44</td>\n",
       "      <td>Independent</td>\n",
       "      <td>0.522022</td>\n",
       "      <td>0.032365</td>\n",
       "      <td>0.0</td>\n",
       "      <td>2</td>\n",
       "      <td>0.06200</td>\n",
       "    </tr>\n",
       "    <tr>\n",
       "      <td>2</td>\n",
       "      <td>2002</td>\n",
       "      <td>Q1</td>\n",
       "      <td>Belgium</td>\n",
       "      <td>Nil  nights</td>\n",
       "      <td>Air</td>\n",
       "      <td>Air</td>\n",
       "      <td>UK</td>\n",
       "      <td>Business</td>\n",
       "      <td>Male</td>\n",
       "      <td>45-54</td>\n",
       "      <td>Independent</td>\n",
       "      <td>0.347127</td>\n",
       "      <td>0.056235</td>\n",
       "      <td>0.0</td>\n",
       "      <td>1</td>\n",
       "      <td>0.16200</td>\n",
       "    </tr>\n",
       "    <tr>\n",
       "      <td>3</td>\n",
       "      <td>2002</td>\n",
       "      <td>Q1</td>\n",
       "      <td>Belgium</td>\n",
       "      <td>Nil  nights</td>\n",
       "      <td>Air</td>\n",
       "      <td>Air</td>\n",
       "      <td>UK</td>\n",
       "      <td>Business</td>\n",
       "      <td>Male</td>\n",
       "      <td>55-64</td>\n",
       "      <td>Independent</td>\n",
       "      <td>0.941973</td>\n",
       "      <td>0.025433</td>\n",
       "      <td>0.0</td>\n",
       "      <td>1</td>\n",
       "      <td>0.02700</td>\n",
       "    </tr>\n",
       "    <tr>\n",
       "      <td>4</td>\n",
       "      <td>2002</td>\n",
       "      <td>Q1</td>\n",
       "      <td>Belgium</td>\n",
       "      <td>Nil  nights</td>\n",
       "      <td>Air</td>\n",
       "      <td>Air</td>\n",
       "      <td>UK</td>\n",
       "      <td>Transit</td>\n",
       "      <td>Male</td>\n",
       "      <td>25-34</td>\n",
       "      <td>Independent</td>\n",
       "      <td>0.000000</td>\n",
       "      <td>0.000000</td>\n",
       "      <td>0.0</td>\n",
       "      <td>1</td>\n",
       "      <td>0.00000</td>\n",
       "    </tr>\n",
       "  </tbody>\n",
       "</table>\n",
       "</div>"
      ],
      "text/plain": [
       "   year quarter   market     dur_stay mode mode_detail nationality   purpose  \\\n",
       "0  2002      Q1  Belgium  Nil  nights  Air         Air          UK  Business   \n",
       "1  2002      Q1  Belgium  Nil  nights  Air         Air          UK  Business   \n",
       "2  2002      Q1  Belgium  Nil  nights  Air         Air          UK  Business   \n",
       "3  2002      Q1  Belgium  Nil  nights  Air         Air          UK  Business   \n",
       "4  2002      Q1  Belgium  Nil  nights  Air         Air          UK   Transit   \n",
       "\n",
       "    sex    age      package    visits     spend  nights  sample  per_tourist  \n",
       "0  Male  25-34  Independent  1.288285  0.034823     0.0       2      0.02703  \n",
       "1  Male  35-44  Independent  0.522022  0.032365     0.0       2      0.06200  \n",
       "2  Male  45-54  Independent  0.347127  0.056235     0.0       1      0.16200  \n",
       "3  Male  55-64  Independent  0.941973  0.025433     0.0       1      0.02700  \n",
       "4  Male  25-34  Independent  0.000000  0.000000     0.0       1      0.00000  "
      ]
     },
     "execution_count": 16,
     "metadata": {},
     "output_type": "execute_result"
    }
   ],
   "source": [
    "df.head()"
   ]
  },
  {
   "cell_type": "code",
   "execution_count": 17,
   "metadata": {
    "scrolled": true
   },
   "outputs": [
    {
     "data": {
      "text/html": [
       "<div>\n",
       "<style scoped>\n",
       "    .dataframe tbody tr th:only-of-type {\n",
       "        vertical-align: middle;\n",
       "    }\n",
       "\n",
       "    .dataframe tbody tr th {\n",
       "        vertical-align: top;\n",
       "    }\n",
       "\n",
       "    .dataframe thead th {\n",
       "        text-align: right;\n",
       "    }\n",
       "</style>\n",
       "<table border=\"1\" class=\"dataframe\">\n",
       "  <thead>\n",
       "    <tr style=\"text-align: right;\">\n",
       "      <th></th>\n",
       "      <th>year</th>\n",
       "      <th>visits</th>\n",
       "      <th>spend</th>\n",
       "      <th>nights</th>\n",
       "      <th>sample</th>\n",
       "      <th>per_tourist</th>\n",
       "    </tr>\n",
       "  </thead>\n",
       "  <tbody>\n",
       "    <tr>\n",
       "      <td>count</td>\n",
       "      <td>443010.000000</td>\n",
       "      <td>443010.000000</td>\n",
       "      <td>443010.000000</td>\n",
       "      <td>443010.000000</td>\n",
       "      <td>443010.000000</td>\n",
       "      <td>4.430100e+05</td>\n",
       "    </tr>\n",
       "    <tr>\n",
       "      <td>mean</td>\n",
       "      <td>2010.182718</td>\n",
       "      <td>1.293075</td>\n",
       "      <td>0.729893</td>\n",
       "      <td>9.909916</td>\n",
       "      <td>1.807657</td>\n",
       "      <td>inf</td>\n",
       "    </tr>\n",
       "    <tr>\n",
       "      <td>std</td>\n",
       "      <td>4.995472</td>\n",
       "      <td>1.982608</td>\n",
       "      <td>1.899529</td>\n",
       "      <td>26.942452</td>\n",
       "      <td>2.451946</td>\n",
       "      <td>NaN</td>\n",
       "    </tr>\n",
       "    <tr>\n",
       "      <td>min</td>\n",
       "      <td>2002.000000</td>\n",
       "      <td>0.000000</td>\n",
       "      <td>0.000000</td>\n",
       "      <td>0.000000</td>\n",
       "      <td>1.000000</td>\n",
       "      <td>0.000000e+00</td>\n",
       "    </tr>\n",
       "    <tr>\n",
       "      <td>25%</td>\n",
       "      <td>2006.000000</td>\n",
       "      <td>0.392937</td>\n",
       "      <td>0.074671</td>\n",
       "      <td>1.181872</td>\n",
       "      <td>1.000000</td>\n",
       "      <td>1.400000e-01</td>\n",
       "    </tr>\n",
       "    <tr>\n",
       "      <td>50%</td>\n",
       "      <td>2010.000000</td>\n",
       "      <td>0.721019</td>\n",
       "      <td>0.260128</td>\n",
       "      <td>3.534925</td>\n",
       "      <td>1.000000</td>\n",
       "      <td>3.532536e-01</td>\n",
       "    </tr>\n",
       "    <tr>\n",
       "      <td>75%</td>\n",
       "      <td>2014.000000</td>\n",
       "      <td>1.425891</td>\n",
       "      <td>0.711861</td>\n",
       "      <td>9.134462</td>\n",
       "      <td>2.000000</td>\n",
       "      <td>8.164782e-01</td>\n",
       "    </tr>\n",
       "    <tr>\n",
       "      <td>max</td>\n",
       "      <td>2019.000000</td>\n",
       "      <td>62.593937</td>\n",
       "      <td>226.402128</td>\n",
       "      <td>4022.016250</td>\n",
       "      <td>78.000000</td>\n",
       "      <td>inf</td>\n",
       "    </tr>\n",
       "  </tbody>\n",
       "</table>\n",
       "</div>"
      ],
      "text/plain": [
       "                year         visits          spend         nights  \\\n",
       "count  443010.000000  443010.000000  443010.000000  443010.000000   \n",
       "mean     2010.182718       1.293075       0.729893       9.909916   \n",
       "std         4.995472       1.982608       1.899529      26.942452   \n",
       "min      2002.000000       0.000000       0.000000       0.000000   \n",
       "25%      2006.000000       0.392937       0.074671       1.181872   \n",
       "50%      2010.000000       0.721019       0.260128       3.534925   \n",
       "75%      2014.000000       1.425891       0.711861       9.134462   \n",
       "max      2019.000000      62.593937     226.402128    4022.016250   \n",
       "\n",
       "              sample   per_tourist  \n",
       "count  443010.000000  4.430100e+05  \n",
       "mean        1.807657           inf  \n",
       "std         2.451946           NaN  \n",
       "min         1.000000  0.000000e+00  \n",
       "25%         1.000000  1.400000e-01  \n",
       "50%         1.000000  3.532536e-01  \n",
       "75%         2.000000  8.164782e-01  \n",
       "max        78.000000           inf  "
      ]
     },
     "execution_count": 17,
     "metadata": {},
     "output_type": "execute_result"
    }
   ],
   "source": [
    "#basic descriptive statistics \n",
    "\n",
    "df.describe()"
   ]
  },
  {
   "cell_type": "code",
   "execution_count": 18,
   "metadata": {},
   "outputs": [
    {
     "data": {
      "text/html": [
       "<div>\n",
       "<style scoped>\n",
       "    .dataframe tbody tr th:only-of-type {\n",
       "        vertical-align: middle;\n",
       "    }\n",
       "\n",
       "    .dataframe tbody tr th {\n",
       "        vertical-align: top;\n",
       "    }\n",
       "\n",
       "    .dataframe thead th {\n",
       "        text-align: right;\n",
       "    }\n",
       "</style>\n",
       "<table border=\"1\" class=\"dataframe\">\n",
       "  <thead>\n",
       "    <tr style=\"text-align: right;\">\n",
       "      <th></th>\n",
       "      <th>year</th>\n",
       "      <th>quarter</th>\n",
       "      <th>market</th>\n",
       "      <th>dur_stay</th>\n",
       "      <th>mode</th>\n",
       "      <th>mode_detail</th>\n",
       "      <th>nationality</th>\n",
       "      <th>purpose</th>\n",
       "      <th>sex</th>\n",
       "      <th>age</th>\n",
       "      <th>package</th>\n",
       "      <th>visits</th>\n",
       "      <th>spend</th>\n",
       "      <th>nights</th>\n",
       "      <th>sample</th>\n",
       "      <th>per_tourist</th>\n",
       "    </tr>\n",
       "  </thead>\n",
       "  <tbody>\n",
       "    <tr>\n",
       "      <td>0</td>\n",
       "      <td>2002</td>\n",
       "      <td>Q1</td>\n",
       "      <td>Belgium</td>\n",
       "      <td>Nil  nights</td>\n",
       "      <td>Air</td>\n",
       "      <td>Air</td>\n",
       "      <td>UK</td>\n",
       "      <td>Business</td>\n",
       "      <td>Male</td>\n",
       "      <td>25-34</td>\n",
       "      <td>Independent</td>\n",
       "      <td>1.288285</td>\n",
       "      <td>0.034823</td>\n",
       "      <td>0.0</td>\n",
       "      <td>2</td>\n",
       "      <td>0.02703</td>\n",
       "    </tr>\n",
       "    <tr>\n",
       "      <td>1</td>\n",
       "      <td>2002</td>\n",
       "      <td>Q1</td>\n",
       "      <td>Belgium</td>\n",
       "      <td>Nil  nights</td>\n",
       "      <td>Air</td>\n",
       "      <td>Air</td>\n",
       "      <td>UK</td>\n",
       "      <td>Business</td>\n",
       "      <td>Male</td>\n",
       "      <td>35-44</td>\n",
       "      <td>Independent</td>\n",
       "      <td>0.522022</td>\n",
       "      <td>0.032365</td>\n",
       "      <td>0.0</td>\n",
       "      <td>2</td>\n",
       "      <td>0.06200</td>\n",
       "    </tr>\n",
       "    <tr>\n",
       "      <td>2</td>\n",
       "      <td>2002</td>\n",
       "      <td>Q1</td>\n",
       "      <td>Belgium</td>\n",
       "      <td>Nil  nights</td>\n",
       "      <td>Air</td>\n",
       "      <td>Air</td>\n",
       "      <td>UK</td>\n",
       "      <td>Business</td>\n",
       "      <td>Male</td>\n",
       "      <td>45-54</td>\n",
       "      <td>Independent</td>\n",
       "      <td>0.347127</td>\n",
       "      <td>0.056235</td>\n",
       "      <td>0.0</td>\n",
       "      <td>1</td>\n",
       "      <td>0.16200</td>\n",
       "    </tr>\n",
       "    <tr>\n",
       "      <td>3</td>\n",
       "      <td>2002</td>\n",
       "      <td>Q1</td>\n",
       "      <td>Belgium</td>\n",
       "      <td>Nil  nights</td>\n",
       "      <td>Air</td>\n",
       "      <td>Air</td>\n",
       "      <td>UK</td>\n",
       "      <td>Business</td>\n",
       "      <td>Male</td>\n",
       "      <td>55-64</td>\n",
       "      <td>Independent</td>\n",
       "      <td>0.941973</td>\n",
       "      <td>0.025433</td>\n",
       "      <td>0.0</td>\n",
       "      <td>1</td>\n",
       "      <td>0.02700</td>\n",
       "    </tr>\n",
       "    <tr>\n",
       "      <td>4</td>\n",
       "      <td>2002</td>\n",
       "      <td>Q1</td>\n",
       "      <td>Belgium</td>\n",
       "      <td>Nil  nights</td>\n",
       "      <td>Air</td>\n",
       "      <td>Air</td>\n",
       "      <td>UK</td>\n",
       "      <td>Transit</td>\n",
       "      <td>Male</td>\n",
       "      <td>25-34</td>\n",
       "      <td>Independent</td>\n",
       "      <td>0.000000</td>\n",
       "      <td>0.000000</td>\n",
       "      <td>0.0</td>\n",
       "      <td>1</td>\n",
       "      <td>0.00000</td>\n",
       "    </tr>\n",
       "  </tbody>\n",
       "</table>\n",
       "</div>"
      ],
      "text/plain": [
       "   year quarter   market     dur_stay mode mode_detail nationality   purpose  \\\n",
       "0  2002      Q1  Belgium  Nil  nights  Air         Air          UK  Business   \n",
       "1  2002      Q1  Belgium  Nil  nights  Air         Air          UK  Business   \n",
       "2  2002      Q1  Belgium  Nil  nights  Air         Air          UK  Business   \n",
       "3  2002      Q1  Belgium  Nil  nights  Air         Air          UK  Business   \n",
       "4  2002      Q1  Belgium  Nil  nights  Air         Air          UK   Transit   \n",
       "\n",
       "    sex    age      package    visits     spend  nights  sample  per_tourist  \n",
       "0  Male  25-34  Independent  1.288285  0.034823     0.0       2      0.02703  \n",
       "1  Male  35-44  Independent  0.522022  0.032365     0.0       2      0.06200  \n",
       "2  Male  45-54  Independent  0.347127  0.056235     0.0       1      0.16200  \n",
       "3  Male  55-64  Independent  0.941973  0.025433     0.0       1      0.02700  \n",
       "4  Male  25-34  Independent  0.000000  0.000000     0.0       1      0.00000  "
      ]
     },
     "execution_count": 18,
     "metadata": {},
     "output_type": "execute_result"
    }
   ],
   "source": [
    "df.head()"
   ]
  },
  {
   "cell_type": "code",
   "execution_count": 19,
   "metadata": {
    "scrolled": true
   },
   "outputs": [
    {
     "data": {
      "text/html": [
       "<div>\n",
       "<style scoped>\n",
       "    .dataframe tbody tr th:only-of-type {\n",
       "        vertical-align: middle;\n",
       "    }\n",
       "\n",
       "    .dataframe tbody tr th {\n",
       "        vertical-align: top;\n",
       "    }\n",
       "\n",
       "    .dataframe thead th {\n",
       "        text-align: right;\n",
       "    }\n",
       "</style>\n",
       "<table border=\"1\" class=\"dataframe\">\n",
       "  <thead>\n",
       "    <tr style=\"text-align: right;\">\n",
       "      <th></th>\n",
       "      <th>year</th>\n",
       "      <th>quarter</th>\n",
       "      <th>market</th>\n",
       "      <th>dur_stay</th>\n",
       "      <th>mode</th>\n",
       "      <th>mode_detail</th>\n",
       "      <th>nationality</th>\n",
       "      <th>purpose</th>\n",
       "      <th>sex</th>\n",
       "      <th>age</th>\n",
       "      <th>package</th>\n",
       "      <th>visits</th>\n",
       "      <th>spend</th>\n",
       "      <th>nights</th>\n",
       "      <th>sample</th>\n",
       "      <th>per_tourist</th>\n",
       "    </tr>\n",
       "  </thead>\n",
       "  <tbody>\n",
       "    <tr>\n",
       "      <td>443005</td>\n",
       "      <td>2019</td>\n",
       "      <td>Q3</td>\n",
       "      <td>Other Africa</td>\n",
       "      <td>15+  nights</td>\n",
       "      <td>Air</td>\n",
       "      <td>Air</td>\n",
       "      <td>Other Africa</td>\n",
       "      <td>Study</td>\n",
       "      <td>Male</td>\n",
       "      <td>25-34</td>\n",
       "      <td>Independent</td>\n",
       "      <td>0.464177</td>\n",
       "      <td>0.835519</td>\n",
       "      <td>41.77593</td>\n",
       "      <td>1</td>\n",
       "      <td>1.800</td>\n",
       "    </tr>\n",
       "    <tr>\n",
       "      <td>443006</td>\n",
       "      <td>2019</td>\n",
       "      <td>Q3</td>\n",
       "      <td>Other Africa</td>\n",
       "      <td>15+  nights</td>\n",
       "      <td>Air</td>\n",
       "      <td>Air</td>\n",
       "      <td>Other Africa</td>\n",
       "      <td>Miscellaneous</td>\n",
       "      <td>Male</td>\n",
       "      <td>55-64</td>\n",
       "      <td>Independent</td>\n",
       "      <td>0.498113</td>\n",
       "      <td>1.003698</td>\n",
       "      <td>9.96226</td>\n",
       "      <td>1</td>\n",
       "      <td>2.015</td>\n",
       "    </tr>\n",
       "    <tr>\n",
       "      <td>443007</td>\n",
       "      <td>2019</td>\n",
       "      <td>Q3</td>\n",
       "      <td>Other Africa</td>\n",
       "      <td>Not Known</td>\n",
       "      <td>Air</td>\n",
       "      <td>Air</td>\n",
       "      <td>Kenya</td>\n",
       "      <td>Transit</td>\n",
       "      <td>Male</td>\n",
       "      <td>45-54</td>\n",
       "      <td>Independent</td>\n",
       "      <td>0.000000</td>\n",
       "      <td>0.000000</td>\n",
       "      <td>0.00000</td>\n",
       "      <td>1</td>\n",
       "      <td>0.000</td>\n",
       "    </tr>\n",
       "    <tr>\n",
       "      <td>443008</td>\n",
       "      <td>2019</td>\n",
       "      <td>Q3</td>\n",
       "      <td>Other Areas / Unknown</td>\n",
       "      <td>Not Known</td>\n",
       "      <td>Air</td>\n",
       "      <td>Air</td>\n",
       "      <td>Other areas / unknown</td>\n",
       "      <td>Holiday</td>\n",
       "      <td>Not Known</td>\n",
       "      <td>Not Known</td>\n",
       "      <td>Independent</td>\n",
       "      <td>0.000000</td>\n",
       "      <td>5.682977</td>\n",
       "      <td>0.00000</td>\n",
       "      <td>1</td>\n",
       "      <td>inf</td>\n",
       "    </tr>\n",
       "    <tr>\n",
       "      <td>443009</td>\n",
       "      <td>2019</td>\n",
       "      <td>Q3</td>\n",
       "      <td>Other Areas / Unknown</td>\n",
       "      <td>Not Known</td>\n",
       "      <td>Sea</td>\n",
       "      <td>Sea - Not Known</td>\n",
       "      <td>Other areas / unknown</td>\n",
       "      <td>Holiday</td>\n",
       "      <td>Not Known</td>\n",
       "      <td>Not Known</td>\n",
       "      <td>Independent</td>\n",
       "      <td>0.000000</td>\n",
       "      <td>5.682977</td>\n",
       "      <td>0.00000</td>\n",
       "      <td>1</td>\n",
       "      <td>inf</td>\n",
       "    </tr>\n",
       "  </tbody>\n",
       "</table>\n",
       "</div>"
      ],
      "text/plain": [
       "        year quarter                 market     dur_stay mode  \\\n",
       "443005  2019      Q3           Other Africa  15+  nights  Air   \n",
       "443006  2019      Q3           Other Africa  15+  nights  Air   \n",
       "443007  2019      Q3           Other Africa    Not Known  Air   \n",
       "443008  2019      Q3  Other Areas / Unknown    Not Known  Air   \n",
       "443009  2019      Q3  Other Areas / Unknown    Not Known  Sea   \n",
       "\n",
       "            mode_detail            nationality        purpose        sex  \\\n",
       "443005              Air           Other Africa          Study       Male   \n",
       "443006              Air           Other Africa  Miscellaneous       Male   \n",
       "443007              Air                  Kenya        Transit       Male   \n",
       "443008              Air  Other areas / unknown        Holiday  Not Known   \n",
       "443009  Sea - Not Known  Other areas / unknown        Holiday  Not Known   \n",
       "\n",
       "              age      package    visits     spend    nights  sample  \\\n",
       "443005      25-34  Independent  0.464177  0.835519  41.77593       1   \n",
       "443006      55-64  Independent  0.498113  1.003698   9.96226       1   \n",
       "443007      45-54  Independent  0.000000  0.000000   0.00000       1   \n",
       "443008  Not Known  Independent  0.000000  5.682977   0.00000       1   \n",
       "443009  Not Known  Independent  0.000000  5.682977   0.00000       1   \n",
       "\n",
       "        per_tourist  \n",
       "443005        1.800  \n",
       "443006        2.015  \n",
       "443007        0.000  \n",
       "443008          inf  \n",
       "443009          inf  "
      ]
     },
     "execution_count": 19,
     "metadata": {},
     "output_type": "execute_result"
    }
   ],
   "source": [
    "df.tail()"
   ]
  },
  {
   "cell_type": "code",
   "execution_count": null,
   "metadata": {},
   "outputs": [],
   "source": []
  },
  {
   "cell_type": "markdown",
   "metadata": {},
   "source": [
    "### QUESTIONS TO BE ANSWERED"
   ]
  },
  {
   "cell_type": "markdown",
   "metadata": {},
   "source": [
    "1. What was the year with highest number of tourists?\n",
    "2. Which market had the highest total quarterly visits to London?\n",
    "3. What is the most popular mode of travel in 2017 for tourists from France?\n",
    "4. Which market was the source of the most visitss for Business purpose in 2017?\n",
    "5. What are the portions of visits according to purpose during each year?\n",
    "6. Which market had the highest number of visitors traveled by the sea?\n",
    "7. What age group traveled to London the most in 2014-2018 period?\n",
    "8. is there any relationship between purpose of visit and money spent in UK, what graphs could best explain this relationship?"
   ]
  },
  {
   "cell_type": "markdown",
   "metadata": {},
   "source": [
    "## What was the year with highest number of tourists?"
   ]
  },
  {
   "cell_type": "code",
   "execution_count": 20,
   "metadata": {
    "scrolled": false
   },
   "outputs": [
    {
     "data": {
      "image/png": "[encoded data removed]",
      "text/plain": [
       "<Figure size 576x360 with 1 Axes>"
      ]
     },
     "metadata": {},
     "output_type": "display_data"
    }
   ],
   "source": [
    "yearly_visits = df.groupby('year').visits.sum()\n",
    "top5_yearly = yearly_visits.sort_values(ascending = False).head(5)\n",
    "\n",
    "sns.set()\n",
    "_ = plt.figure(figsize = (8, 5))\n",
    "_ = plt.bar(top5_yearly.index, top5_yearly.values, width = 0.6, color=('brown', 'pink', 'pink', 'pink', 'pink'))\n",
    "_ = plt.xlabel('Years')\n",
    "_ = plt.ylabel('Number of Visitors (in 000s)')\n",
    "_ = plt.title('Years with Highest Number of Visitors')"
   ]
  },
  {
   "cell_type": "code",
   "execution_count": 21,
   "metadata": {},
   "outputs": [
    {
     "name": "stdout",
     "output_type": "stream",
     "text": [
      "<class 'pandas.core.frame.DataFrame'>\n",
      "RangeIndex: 443010 entries, 0 to 443009\n",
      "Data columns (total 16 columns):\n",
      "year           443010 non-null int64\n",
      "quarter        443010 non-null category\n",
      "market         443010 non-null object\n",
      "dur_stay       443010 non-null category\n",
      "mode           443010 non-null category\n",
      "mode_detail    443010 non-null category\n",
      "nationality    443010 non-null object\n",
      "purpose        443010 non-null category\n",
      "sex            443010 non-null category\n",
      "age            443010 non-null category\n",
      "package        443010 non-null category\n",
      "visits         443010 non-null float64\n",
      "spend          443010 non-null float64\n",
      "nights         443010 non-null float64\n",
      "sample         443010 non-null int64\n",
      "per_tourist    443010 non-null float64\n",
      "dtypes: category(8), float64(4), int64(2), object(2)\n",
      "memory usage: 30.4+ MB\n"
     ]
    }
   ],
   "source": [
    "df.info()"
   ]
  },
  {
   "cell_type": "markdown",
   "metadata": {},
   "source": [
    "## Which market had the highest total quarterly visits to London?"
   ]
  },
  {
   "cell_type": "code",
   "execution_count": 22,
   "metadata": {
    "scrolled": true
   },
   "outputs": [
    {
     "data": {
      "image/png": "[encoded data removed]",
      "text/plain": [
       "<Figure size 576x360 with 1 Axes>"
      ]
     },
     "metadata": {},
     "output_type": "display_data"
    }
   ],
   "source": [
    "quarterly = df.groupby(['quarter', 'market']).visits.sum().unstack()\n",
    "\n",
    "countries = pd.Series(quarterly.idxmax(axis = 1), name = 'Country')\n",
    "visits = pd.Series(quarterly.max(axis = 1), name = 'Visits')\n",
    "\n",
    "quarterly = pd.concat([countries, visits], axis = 1).reset_index()\n",
    "quarterly['QCountry'] = quarterly.quarter.astype(str) + ' ' + quarterly.Country.astype(str)\n",
    "quarterly.drop(columns = ['quarter', 'Country'], inplace = True)\n",
    "\n",
    "_ = plt.figure(figsize = (8, 5))\n",
    "_ = plt.bar(quarterly.QCountry, quarterly.Visits, color = 'brown', width = 0.6)\n",
    "_ = plt.xlabel('Countries')\n",
    "_ = plt.ylabel('Number of Visitors')\n",
    "_ = plt.title('Countries with Highest Highest Quarterly Visits')"
   ]
  },
  {
   "cell_type": "markdown",
   "metadata": {},
   "source": [
    "## What is the most popular mode of travel in 2017 for tourists from France?"
   ]
  },
  {
   "cell_type": "code",
   "execution_count": 23,
   "metadata": {},
   "outputs": [
    {
     "data": {
      "image/png": "[encoded data removed]",
      "text/plain": [
       "<Figure size 432x288 with 1 Axes>"
      ]
     },
     "metadata": {},
     "output_type": "display_data"
    }
   ],
   "source": [
    "#Question3\n",
    "grouped = df[(df['year'] == 2017) & (df['market'] == 'France')].groupby('mode').visits.sum()\n",
    "sorted_group = pd.DataFrame(grouped.sort_values(ascending = False))\n",
    "\n",
    "my_explode = (0, 0, 0)\n",
    "my_colors = ['lightblue','lightsteelblue','silver']\n",
    "\n",
    "_ = plt.pie(sorted_group['visits'], labels = ['Air', 'Tunnel', 'Sea'], autopct='%1.1f%%', radius = 1.5, explode = my_explode, shadow = True, colors = my_colors)\n",
    "\n",
    "_ = plt.title('Modes of Visits')\n",
    "_ = plt.axis('equal')"
   ]
  },
  {
   "cell_type": "markdown",
   "metadata": {},
   "source": [
    "## Which market was the source of the most visits for Business purpose in 2017?"
   ]
  },
  {
   "cell_type": "code",
   "execution_count": 24,
   "metadata": {
    "scrolled": true
   },
   "outputs": [
    {
     "data": {
      "image/png": "[encoded data removed]",
      "text/plain": [
       "<Figure size 576x360 with 1 Axes>"
      ]
     },
     "metadata": {},
     "output_type": "display_data"
    }
   ],
   "source": [
    "business2017 = df[(df.purpose == 'Business') & (df.year == 2017)]\n",
    "business2017_market = pd.DataFrame(business2017.groupby(['market', 'sex'])['visits'].sum().unstack(), columns = ['Female', 'Male', 'NA'])\n",
    "\n",
    "business2017_market['Total'] = business2017_market.Female + business2017_market.Male\n",
    "business2017_market.drop(columns = 'NA', inplace = True)\n",
    "business2017_top5market = business2017_market.sort_values(by = 'Total', ascending = False).head()\n",
    "\n",
    "_ = plt.figure(figsize = (8, 5))\n",
    "_ = plt.bar(business2017_top5market.index, business2017_top5market.Total, color = 'darkblue', label = 'Male')\n",
    "_ = plt.bar(business2017_top5market.index, business2017_top5market['Female'], color = 'red', label = 'Female')\n",
    "_ = plt.title('Male/Female Proportions for Business Visits in 2017')\n",
    "_ = plt.xlabel('Countries')\n",
    "_ = plt.ylabel('# of Visits (in 000s)')\n",
    "_ = plt.legend()\n",
    "plt.show()"
   ]
  },
  {
   "cell_type": "markdown",
   "metadata": {},
   "source": [
    "## What are the portions of visits according to purpose during each year?"
   ]
  },
  {
   "cell_type": "code",
   "execution_count": 25,
   "metadata": {
    "scrolled": true
   },
   "outputs": [
    {
     "data": {
      "text/html": [
       "<div>\n",
       "<style scoped>\n",
       "    .dataframe tbody tr th:only-of-type {\n",
       "        vertical-align: middle;\n",
       "    }\n",
       "\n",
       "    .dataframe tbody tr th {\n",
       "        vertical-align: top;\n",
       "    }\n",
       "\n",
       "    .dataframe thead th {\n",
       "        text-align: right;\n",
       "    }\n",
       "</style>\n",
       "<table border=\"1\" class=\"dataframe\">\n",
       "  <thead>\n",
       "    <tr style=\"text-align: right;\">\n",
       "      <th>purpose</th>\n",
       "      <th>Business</th>\n",
       "      <th>Holiday</th>\n",
       "      <th>Miscellaneous</th>\n",
       "      <th>Study</th>\n",
       "      <th>Transit</th>\n",
       "      <th>VFR</th>\n",
       "    </tr>\n",
       "    <tr>\n",
       "      <th>year</th>\n",
       "      <th></th>\n",
       "      <th></th>\n",
       "      <th></th>\n",
       "      <th></th>\n",
       "      <th></th>\n",
       "      <th></th>\n",
       "    </tr>\n",
       "  </thead>\n",
       "  <tbody>\n",
       "    <tr>\n",
       "      <td>2002</td>\n",
       "      <td>29.6</td>\n",
       "      <td>32.0</td>\n",
       "      <td>9.1</td>\n",
       "      <td>2.8</td>\n",
       "      <td>0.0</td>\n",
       "      <td>26.5</td>\n",
       "    </tr>\n",
       "    <tr>\n",
       "      <td>2003</td>\n",
       "      <td>28.2</td>\n",
       "      <td>32.3</td>\n",
       "      <td>8.8</td>\n",
       "      <td>2.5</td>\n",
       "      <td>0.0</td>\n",
       "      <td>28.2</td>\n",
       "    </tr>\n",
       "    <tr>\n",
       "      <td>2004</td>\n",
       "      <td>26.9</td>\n",
       "      <td>33.4</td>\n",
       "      <td>9.2</td>\n",
       "      <td>2.1</td>\n",
       "      <td>0.0</td>\n",
       "      <td>28.3</td>\n",
       "    </tr>\n",
       "    <tr>\n",
       "      <td>2005</td>\n",
       "      <td>27.3</td>\n",
       "      <td>32.4</td>\n",
       "      <td>9.3</td>\n",
       "      <td>2.0</td>\n",
       "      <td>0.0</td>\n",
       "      <td>29.0</td>\n",
       "    </tr>\n",
       "    <tr>\n",
       "      <td>2006</td>\n",
       "      <td>27.6</td>\n",
       "      <td>32.3</td>\n",
       "      <td>9.2</td>\n",
       "      <td>2.1</td>\n",
       "      <td>0.0</td>\n",
       "      <td>28.8</td>\n",
       "    </tr>\n",
       "    <tr>\n",
       "      <td>2007</td>\n",
       "      <td>27.0</td>\n",
       "      <td>32.8</td>\n",
       "      <td>8.6</td>\n",
       "      <td>2.0</td>\n",
       "      <td>0.0</td>\n",
       "      <td>29.7</td>\n",
       "    </tr>\n",
       "    <tr>\n",
       "      <td>2008</td>\n",
       "      <td>25.5</td>\n",
       "      <td>34.3</td>\n",
       "      <td>8.0</td>\n",
       "      <td>1.8</td>\n",
       "      <td>0.0</td>\n",
       "      <td>30.5</td>\n",
       "    </tr>\n",
       "    <tr>\n",
       "      <td>2009</td>\n",
       "      <td>22.0</td>\n",
       "      <td>38.2</td>\n",
       "      <td>8.7</td>\n",
       "      <td>1.7</td>\n",
       "      <td>0.0</td>\n",
       "      <td>29.4</td>\n",
       "    </tr>\n",
       "    <tr>\n",
       "      <td>2010</td>\n",
       "      <td>22.8</td>\n",
       "      <td>39.2</td>\n",
       "      <td>8.2</td>\n",
       "      <td>1.7</td>\n",
       "      <td>0.0</td>\n",
       "      <td>28.2</td>\n",
       "    </tr>\n",
       "    <tr>\n",
       "      <td>2011</td>\n",
       "      <td>23.5</td>\n",
       "      <td>39.0</td>\n",
       "      <td>7.2</td>\n",
       "      <td>1.6</td>\n",
       "      <td>0.0</td>\n",
       "      <td>28.7</td>\n",
       "    </tr>\n",
       "    <tr>\n",
       "      <td>2012</td>\n",
       "      <td>23.9</td>\n",
       "      <td>38.5</td>\n",
       "      <td>7.2</td>\n",
       "      <td>1.6</td>\n",
       "      <td>0.0</td>\n",
       "      <td>28.8</td>\n",
       "    </tr>\n",
       "    <tr>\n",
       "      <td>2013</td>\n",
       "      <td>24.2</td>\n",
       "      <td>38.7</td>\n",
       "      <td>7.0</td>\n",
       "      <td>1.6</td>\n",
       "      <td>0.0</td>\n",
       "      <td>28.5</td>\n",
       "    </tr>\n",
       "    <tr>\n",
       "      <td>2014</td>\n",
       "      <td>24.1</td>\n",
       "      <td>39.5</td>\n",
       "      <td>6.2</td>\n",
       "      <td>1.9</td>\n",
       "      <td>0.0</td>\n",
       "      <td>28.4</td>\n",
       "    </tr>\n",
       "    <tr>\n",
       "      <td>2015</td>\n",
       "      <td>24.5</td>\n",
       "      <td>38.4</td>\n",
       "      <td>6.6</td>\n",
       "      <td>1.6</td>\n",
       "      <td>0.0</td>\n",
       "      <td>28.9</td>\n",
       "    </tr>\n",
       "    <tr>\n",
       "      <td>2016</td>\n",
       "      <td>24.4</td>\n",
       "      <td>37.0</td>\n",
       "      <td>6.5</td>\n",
       "      <td>1.4</td>\n",
       "      <td>0.0</td>\n",
       "      <td>30.8</td>\n",
       "    </tr>\n",
       "    <tr>\n",
       "      <td>2017</td>\n",
       "      <td>22.4</td>\n",
       "      <td>39.2</td>\n",
       "      <td>6.5</td>\n",
       "      <td>1.2</td>\n",
       "      <td>0.0</td>\n",
       "      <td>30.6</td>\n",
       "    </tr>\n",
       "    <tr>\n",
       "      <td>2018</td>\n",
       "      <td>22.3</td>\n",
       "      <td>39.9</td>\n",
       "      <td>5.5</td>\n",
       "      <td>1.3</td>\n",
       "      <td>0.0</td>\n",
       "      <td>31.0</td>\n",
       "    </tr>\n",
       "    <tr>\n",
       "      <td>2019</td>\n",
       "      <td>21.8</td>\n",
       "      <td>41.5</td>\n",
       "      <td>5.5</td>\n",
       "      <td>1.3</td>\n",
       "      <td>0.0</td>\n",
       "      <td>29.8</td>\n",
       "    </tr>\n",
       "  </tbody>\n",
       "</table>\n",
       "</div>"
      ],
      "text/plain": [
       "purpose  Business  Holiday  Miscellaneous  Study  Transit   VFR\n",
       "year                                                           \n",
       "2002         29.6     32.0            9.1    2.8      0.0  26.5\n",
       "2003         28.2     32.3            8.8    2.5      0.0  28.2\n",
       "2004         26.9     33.4            9.2    2.1      0.0  28.3\n",
       "2005         27.3     32.4            9.3    2.0      0.0  29.0\n",
       "2006         27.6     32.3            9.2    2.1      0.0  28.8\n",
       "2007         27.0     32.8            8.6    2.0      0.0  29.7\n",
       "2008         25.5     34.3            8.0    1.8      0.0  30.5\n",
       "2009         22.0     38.2            8.7    1.7      0.0  29.4\n",
       "2010         22.8     39.2            8.2    1.7      0.0  28.2\n",
       "2011         23.5     39.0            7.2    1.6      0.0  28.7\n",
       "2012         23.9     38.5            7.2    1.6      0.0  28.8\n",
       "2013         24.2     38.7            7.0    1.6      0.0  28.5\n",
       "2014         24.1     39.5            6.2    1.9      0.0  28.4\n",
       "2015         24.5     38.4            6.6    1.6      0.0  28.9\n",
       "2016         24.4     37.0            6.5    1.4      0.0  30.8\n",
       "2017         22.4     39.2            6.5    1.2      0.0  30.6\n",
       "2018         22.3     39.9            5.5    1.3      0.0  31.0\n",
       "2019         21.8     41.5            5.5    1.3      0.0  29.8"
      ]
     },
     "execution_count": 25,
     "metadata": {},
     "output_type": "execute_result"
    }
   ],
   "source": [
    "#Question 5\n",
    "purpose_by_year = pd.pivot_table(df, values = 'visits', index = 'year', columns = 'purpose', \n",
    "                                 aggfunc = np.sum, margins = True)\n",
    "\n",
    "for column in purpose_by_year.columns:\n",
    "    purpose_by_year[column] = ((purpose_by_year[column]/purpose_by_year['All'])*100).round(1)\n",
    "    \n",
    "purpose_by_year.drop('All', axis = 1, inplace = True)\n",
    "purpose_by_year.drop('All', axis = 0, inplace = True)\n",
    "\n",
    "purpose_by_year\n"
   ]
  },
  {
   "cell_type": "code",
   "execution_count": 26,
   "metadata": {},
   "outputs": [
    {
     "data": {
      "image/png": "[encoded data removed]",
      "text/plain": [
       "<Figure size 864x720 with 1 Axes>"
      ]
     },
     "metadata": {},
     "output_type": "display_data"
    }
   ],
   "source": [
    "_ = plt.figure(figsize = (12, 10))\n",
    "\n",
    "for column in purpose_by_year.columns:\n",
    "    \n",
    "    _ = plt.plot(purpose_by_year.index, purpose_by_year[column], marker='o')\n",
    "    \n",
    "_ = plt.xlabel('Year')\n",
    "_ = plt.ylabel('Proportions of Visitors')\n",
    "_ = plt.title('% of Visitors(#) During 2002-2019')\n",
    "_ = plt.legend(('VFR', 'Holiday', 'Miscellaneous', 'Study', 'Transit', 'Business'))\n",
    "plt.show()\n"
   ]
  },
  {
   "cell_type": "code",
   "execution_count": 27,
   "metadata": {},
   "outputs": [
    {
     "data": {
      "image/png": "[encoded data removed]",
      "text/plain": [
       "<Figure size 864x720 with 1 Axes>"
      ]
     },
     "metadata": {},
     "output_type": "display_data"
    }
   ],
   "source": [
    "_ = plt.figure(figsize = (12, 10))\n",
    "\n",
    "\n",
    "for column in ['Business', 'Holiday', 'VFR']:\n",
    "    \n",
    "    _ = plt.plot(purpose_by_year.index, purpose_by_year[column], marker='o')\n",
    "\n",
    "_ = plt.xlabel('Year')\n",
    "_ = plt.ylabel('Proportions of Visitors')\n",
    "_ = plt.title('% of Visitors(#) During 2002-2019')\n",
    "_ = plt.legend(('VFR', 'Holiday', 'Business'))\n",
    "plt.show()"
   ]
  },
  {
   "cell_type": "code",
   "execution_count": null,
   "metadata": {},
   "outputs": [],
   "source": []
  },
  {
   "cell_type": "code",
   "execution_count": null,
   "metadata": {},
   "outputs": [],
   "source": []
  },
  {
   "cell_type": "markdown",
   "metadata": {},
   "source": [
    "## Which market had the highest number of visitors traveled by the sea?"
   ]
  },
  {
   "cell_type": "code",
   "execution_count": 28,
   "metadata": {},
   "outputs": [
    {
     "data": {
      "image/png": "[encoded data removed]",
      "text/plain": [
       "<Figure size 576x360 with 1 Axes>"
      ]
     },
     "metadata": {},
     "output_type": "display_data"
    }
   ],
   "source": [
    "sea_visit = df[df['mode'] == 'Sea'].groupby('market').visits.sum().sort_values(ascending = False).head()\n",
    "\n",
    "_ = plt.figure(figsize = (8, 5))\n",
    "_ = plt.bar(sea_visit.index, sea_visit.values, color = 'blue')\n",
    "_ = plt.xlabel('Countries')\n",
    "_ = plt.ylabel('Number of Visitors')\n",
    "_ = plt.title('Visits by Sea')\n",
    "plt.show()"
   ]
  },
  {
   "cell_type": "markdown",
   "metadata": {},
   "source": [
    "## What age group traveled to London the most in 2014-2018 period?"
   ]
  },
  {
   "cell_type": "code",
   "execution_count": 29,
   "metadata": {
    "scrolled": false
   },
   "outputs": [
    {
     "data": {
      "image/png": "[encoded data removed]",
      "text/plain": [
       "<Figure size 576x360 with 1 Axes>"
      ]
     },
     "metadata": {},
     "output_type": "display_data"
    }
   ],
   "source": [
    "travel14_18 = df[(df['year'] > 2013) & (df['year'] < 2019)]\n",
    "age14_18 = travel14_18.groupby('age').visits.sum()\n",
    "\n",
    "_ = plt.figure(figsize = (8, 5))\n",
    "_ = plt.bar(age14_18.index, age14_18.values, color = 'darkblue')\n",
    "_ = plt.xlabel('Age Groups')\n",
    "_ = plt.ylabel('Number of Visitors (in 000s)')\n",
    "_ = plt.title('Visits by Age Groups')\n",
    "plt.show()"
   ]
  },
  {
   "cell_type": "markdown",
   "metadata": {},
   "source": [
    "## Is there any relationship between purpose of visit and money spent?"
   ]
  },
  {
   "cell_type": "code",
   "execution_count": 30,
   "metadata": {},
   "outputs": [
    {
     "data": {
      "text/plain": [
       "<BarContainer object of 6 artists>"
      ]
     },
     "execution_count": 30,
     "metadata": {},
     "output_type": "execute_result"
    },
    {
     "data": {
      "image/png": "[encoded data removed]",
      "text/plain": [
       "<Figure size 1008x432 with 2 Axes>"
      ]
     },
     "metadata": {},
     "output_type": "display_data"
    }
   ],
   "source": [
    "spent_by_purpose = df.groupby('purpose').spend.sum()\n",
    "visits_by_purpose = df.groupby('purpose').visits.sum()\n",
    "\n",
    "fig, axs = plt.subplots(1, 2, figsize = (14, 6))\n",
    "axs[0].bar(spent_by_purpose.index, spent_by_purpose.values, color = 'brown')\n",
    "axs[1].bar(visits_by_purpose.index, visits_by_purpose.values, color = 'brown')"
   ]
  },
  {
   "cell_type": "code",
   "execution_count": null,
   "metadata": {},
   "outputs": [],
   "source": []
  },
  {
   "cell_type": "markdown",
   "metadata": {},
   "source": [
    "## STATISTICAL ANALYSIS"
   ]
  },
  {
   "cell_type": "code",
   "execution_count": 31,
   "metadata": {},
   "outputs": [
    {
     "name": "stdout",
     "output_type": "stream",
     "text": [
      "stat=0.312, p=0.000\n",
      "Probably not Gaussian\n"
     ]
    },
    {
     "name": "stderr",
     "output_type": "stream",
     "text": [
      "/Users/azarnajafli/anaconda3/lib/python3.7/site-packages/scipy/stats/morestats.py:1660: UserWarning: p-value may not be accurate for N > 5000.\n",
      "  warnings.warn(\"p-value may not be accurate for N > 5000.\")\n"
     ]
    }
   ],
   "source": [
    "data = df['spend']\n",
    "stat, p = shapiro(data)\n",
    "print('stat=%.3f, p=%.3f' % (stat, p))\n",
    "if p > 0.05:\n",
    "    print('Probably Gaussian')\n",
    "else:\n",
    "    print('Probably not Gaussian')"
   ]
  },
  {
   "cell_type": "code",
   "execution_count": 32,
   "metadata": {},
   "outputs": [
    {
     "name": "stdout",
     "output_type": "stream",
     "text": [
      "0.7251985488202447\n",
      "0.7345870630794838\n"
     ]
    }
   ],
   "source": [
    "mean_val = np.mean(df['spend'])\n",
    "std = np.std(df['spend'])\n",
    "\n",
    "degree_f = len(df['spend']) - 1\n",
    "critical = t.ppf(0.05, degree_f)\n",
    "SE = std/np.sqrt(len(df['spend']))\n",
    "up_lim = mean_val + (critical * SE)\n",
    "low_lim = mean_val - (critical * SE)\n",
    "print(up_lim)\n",
    "print(low_lim)"
   ]
  },
  {
   "cell_type": "code",
   "execution_count": null,
   "metadata": {},
   "outputs": [],
   "source": []
  },
  {
   "cell_type": "markdown",
   "metadata": {},
   "source": [
    "H0: Males and females spend the same\n",
    "\n",
    "Ha: Males and females spend different "
   ]
  },
  {
   "cell_type": "code",
   "execution_count": 33,
   "metadata": {},
   "outputs": [
    {
     "name": "stdout",
     "output_type": "stream",
     "text": [
      "p_value is:  2.2572766880972203e-36\n",
      "reject null hypothesis\n"
     ]
    }
   ],
   "source": [
    "sample0 = df[df['sex'] == 'Male'].spend\n",
    "sample1 = df[df['sex'] == 'Female'].spend\n",
    "t, p = ttest_ind(sample0, sample1)\n",
    "\n",
    "print(\"p_value is: \", p)\n",
    "if p<0.05:\n",
    "    print('reject null hypothesis')\n",
    "else:\n",
    "    print('accept null hypothesis')"
   ]
  },
  {
   "cell_type": "code",
   "execution_count": null,
   "metadata": {},
   "outputs": [],
   "source": []
  },
  {
   "cell_type": "markdown",
   "metadata": {},
   "source": [
    "H0: Different age groups spend the same\n",
    "\n",
    "Ha: Different age groups spend different"
   ]
  },
  {
   "cell_type": "code",
   "execution_count": 34,
   "metadata": {},
   "outputs": [
    {
     "name": "stdout",
     "output_type": "stream",
     "text": [
      "p-value for significance is:  5.627741745389378e-140\n",
      "reject null hypothesis\n"
     ]
    }
   ],
   "source": [
    "#ANOVA test\n",
    "df_anova = df[['age','spend']]\n",
    "ages = pd.unique(df_anova.age.values)\n",
    "d_data = {age:df_anova['spend'][df_anova.age == age] for age in ages}\n",
    " \n",
    "F, p = stats.f_oneway(d_data['0 -15'], d_data['16-24'], \n",
    "                      d_data['25-34'], d_data['35-44'], d_data['45-54'], \n",
    "                      d_data['55-64'], d_data['65+'],)\n",
    "print(\"p-value for significance is: \", p)\n",
    "if p<0.05:\n",
    "    print(\"reject null hypothesis\")\n",
    "else:\n",
    "    print(\"accept null hypothesis\")"
   ]
  },
  {
   "cell_type": "code",
   "execution_count": null,
   "metadata": {},
   "outputs": [],
   "source": []
  },
  {
   "cell_type": "markdown",
   "metadata": {},
   "source": [
    "## CLASSIFICATION"
   ]
  },
  {
   "cell_type": "markdown",
   "metadata": {},
   "source": [
    "### DATA PREPARATION"
   ]
  },
  {
   "cell_type": "code",
   "execution_count": 35,
   "metadata": {},
   "outputs": [
    {
     "data": {
      "text/plain": [
       "market\n",
       "USA        48534.071769\n",
       "Germany    21624.002630\n",
       "France     20455.010556\n",
       "Name: spend, dtype: float64"
      ]
     },
     "execution_count": 35,
     "metadata": {},
     "output_type": "execute_result"
    }
   ],
   "source": [
    "df.groupby('market').spend.sum().sort_values(ascending = False).head(3)"
   ]
  },
  {
   "cell_type": "code",
   "execution_count": 36,
   "metadata": {},
   "outputs": [],
   "source": [
    "countries_of_interest = ['USA', 'Germany', 'France']\n",
    "model_data = df[df.market.isin(countries_of_interest)]"
   ]
  },
  {
   "cell_type": "code",
   "execution_count": 37,
   "metadata": {},
   "outputs": [
    {
     "data": {
      "text/plain": [
       "(103068, 16)"
      ]
     },
     "execution_count": 37,
     "metadata": {},
     "output_type": "execute_result"
    }
   ],
   "source": [
    "model_data.shape"
   ]
  },
  {
   "cell_type": "code",
   "execution_count": 38,
   "metadata": {},
   "outputs": [],
   "source": [
    "model_data = model_data.drop(columns = ['market','sample', 'per_tourist', 'mode'])\n",
    "model_data.reset_index(inplace = True, drop = True)\n",
    "model_data['year'] = model_data['year'].astype(str)"
   ]
  },
  {
   "cell_type": "code",
   "execution_count": 39,
   "metadata": {
    "scrolled": true
   },
   "outputs": [
    {
     "data": {
      "text/html": [
       "<div>\n",
       "<style scoped>\n",
       "    .dataframe tbody tr th:only-of-type {\n",
       "        vertical-align: middle;\n",
       "    }\n",
       "\n",
       "    .dataframe tbody tr th {\n",
       "        vertical-align: top;\n",
       "    }\n",
       "\n",
       "    .dataframe thead th {\n",
       "        text-align: right;\n",
       "    }\n",
       "</style>\n",
       "<table border=\"1\" class=\"dataframe\">\n",
       "  <thead>\n",
       "    <tr style=\"text-align: right;\">\n",
       "      <th></th>\n",
       "      <th>year</th>\n",
       "      <th>quarter</th>\n",
       "      <th>dur_stay</th>\n",
       "      <th>mode_detail</th>\n",
       "      <th>nationality</th>\n",
       "      <th>purpose</th>\n",
       "      <th>sex</th>\n",
       "      <th>age</th>\n",
       "      <th>package</th>\n",
       "      <th>visits</th>\n",
       "      <th>spend</th>\n",
       "      <th>nights</th>\n",
       "    </tr>\n",
       "  </thead>\n",
       "  <tbody>\n",
       "    <tr>\n",
       "      <td>0</td>\n",
       "      <td>2002</td>\n",
       "      <td>Q1</td>\n",
       "      <td>Nil  nights</td>\n",
       "      <td>Air</td>\n",
       "      <td>UK</td>\n",
       "      <td>Business</td>\n",
       "      <td>Male</td>\n",
       "      <td>16-24</td>\n",
       "      <td>Independent</td>\n",
       "      <td>0.314443</td>\n",
       "      <td>0.006918</td>\n",
       "      <td>0.0</td>\n",
       "    </tr>\n",
       "    <tr>\n",
       "      <td>1</td>\n",
       "      <td>2002</td>\n",
       "      <td>Q1</td>\n",
       "      <td>Nil  nights</td>\n",
       "      <td>Air</td>\n",
       "      <td>UK</td>\n",
       "      <td>Business</td>\n",
       "      <td>Male</td>\n",
       "      <td>25-34</td>\n",
       "      <td>Independent</td>\n",
       "      <td>0.271330</td>\n",
       "      <td>0.000000</td>\n",
       "      <td>0.0</td>\n",
       "    </tr>\n",
       "    <tr>\n",
       "      <td>2</td>\n",
       "      <td>2002</td>\n",
       "      <td>Q1</td>\n",
       "      <td>Nil  nights</td>\n",
       "      <td>Air</td>\n",
       "      <td>UK</td>\n",
       "      <td>Business</td>\n",
       "      <td>Male</td>\n",
       "      <td>45-54</td>\n",
       "      <td>Independent</td>\n",
       "      <td>1.171546</td>\n",
       "      <td>0.028784</td>\n",
       "      <td>0.0</td>\n",
       "    </tr>\n",
       "    <tr>\n",
       "      <td>3</td>\n",
       "      <td>2002</td>\n",
       "      <td>Q1</td>\n",
       "      <td>Nil  nights</td>\n",
       "      <td>Air</td>\n",
       "      <td>UK</td>\n",
       "      <td>VFR</td>\n",
       "      <td>Female</td>\n",
       "      <td>35-44</td>\n",
       "      <td>Independent</td>\n",
       "      <td>0.672379</td>\n",
       "      <td>0.108925</td>\n",
       "      <td>0.0</td>\n",
       "    </tr>\n",
       "    <tr>\n",
       "      <td>4</td>\n",
       "      <td>2002</td>\n",
       "      <td>Q1</td>\n",
       "      <td>Nil  nights</td>\n",
       "      <td>Air</td>\n",
       "      <td>UK</td>\n",
       "      <td>Transit</td>\n",
       "      <td>Male</td>\n",
       "      <td>55-64</td>\n",
       "      <td>Independent</td>\n",
       "      <td>0.000000</td>\n",
       "      <td>0.000000</td>\n",
       "      <td>0.0</td>\n",
       "    </tr>\n",
       "  </tbody>\n",
       "</table>\n",
       "</div>"
      ],
      "text/plain": [
       "   year quarter     dur_stay mode_detail nationality   purpose     sex    age  \\\n",
       "0  2002      Q1  Nil  nights         Air          UK  Business    Male  16-24   \n",
       "1  2002      Q1  Nil  nights         Air          UK  Business    Male  25-34   \n",
       "2  2002      Q1  Nil  nights         Air          UK  Business    Male  45-54   \n",
       "3  2002      Q1  Nil  nights         Air          UK       VFR  Female  35-44   \n",
       "4  2002      Q1  Nil  nights         Air          UK   Transit    Male  55-64   \n",
       "\n",
       "       package    visits     spend  nights  \n",
       "0  Independent  0.314443  0.006918     0.0  \n",
       "1  Independent  0.271330  0.000000     0.0  \n",
       "2  Independent  1.171546  0.028784     0.0  \n",
       "3  Independent  0.672379  0.108925     0.0  \n",
       "4  Independent  0.000000  0.000000     0.0  "
      ]
     },
     "execution_count": 39,
     "metadata": {},
     "output_type": "execute_result"
    }
   ],
   "source": [
    "model_data.head()"
   ]
  },
  {
   "cell_type": "code",
   "execution_count": 40,
   "metadata": {},
   "outputs": [
    {
     "name": "stdout",
     "output_type": "stream",
     "text": [
      "<class 'pandas.core.frame.DataFrame'>\n",
      "RangeIndex: 103068 entries, 0 to 103067\n",
      "Data columns (total 12 columns):\n",
      "year           103068 non-null object\n",
      "quarter        103068 non-null category\n",
      "dur_stay       103068 non-null category\n",
      "mode_detail    103068 non-null category\n",
      "nationality    103068 non-null object\n",
      "purpose        103068 non-null category\n",
      "sex            103068 non-null category\n",
      "age            103068 non-null category\n",
      "package        103068 non-null category\n",
      "visits         103068 non-null float64\n",
      "spend          103068 non-null float64\n",
      "nights         103068 non-null float64\n",
      "dtypes: category(7), float64(3), object(2)\n",
      "memory usage: 4.6+ MB\n"
     ]
    }
   ],
   "source": [
    "model_data.info()"
   ]
  },
  {
   "cell_type": "code",
   "execution_count": 41,
   "metadata": {},
   "outputs": [],
   "source": [
    "classes = {'Independent': 0, 'Non-Independent': 1}\n",
    "model_data.replace(classes, inplace = True)"
   ]
  },
  {
   "cell_type": "code",
   "execution_count": 42,
   "metadata": {},
   "outputs": [],
   "source": [
    "model_data['package'] = model_data['package'].astype('category')"
   ]
  },
  {
   "cell_type": "code",
   "execution_count": 43,
   "metadata": {},
   "outputs": [],
   "source": [
    "X = model_data.drop(columns = 'package')\n",
    "X = pd.get_dummies(X)\n",
    "\n",
    "y = model_data.package"
   ]
  },
  {
   "cell_type": "code",
   "execution_count": 44,
   "metadata": {},
   "outputs": [
    {
     "data": {
      "text/plain": [
       "(103068, 134)"
      ]
     },
     "execution_count": 44,
     "metadata": {},
     "output_type": "execute_result"
    }
   ],
   "source": [
    "X.shape"
   ]
  },
  {
   "cell_type": "code",
   "execution_count": 45,
   "metadata": {},
   "outputs": [
    {
     "data": {
      "text/plain": [
       "(103068,)"
      ]
     },
     "execution_count": 45,
     "metadata": {},
     "output_type": "execute_result"
    }
   ],
   "source": [
    "y.shape"
   ]
  },
  {
   "cell_type": "code",
   "execution_count": 46,
   "metadata": {},
   "outputs": [
    {
     "data": {
      "text/plain": [
       "0    0.891179\n",
       "1    0.108821\n",
       "Name: package, dtype: float64"
      ]
     },
     "execution_count": 46,
     "metadata": {},
     "output_type": "execute_result"
    }
   ],
   "source": [
    "y.value_counts(normalize=True)"
   ]
  },
  {
   "cell_type": "code",
   "execution_count": 47,
   "metadata": {},
   "outputs": [],
   "source": [
    "X_train, X_test, y_train, y_test = train_test_split(X, y, test_size=0.25, random_state = 42)"
   ]
  },
  {
   "cell_type": "markdown",
   "metadata": {},
   "source": [
    "### Random Forest"
   ]
  },
  {
   "cell_type": "code",
   "execution_count": 48,
   "metadata": {},
   "outputs": [
    {
     "name": "stdout",
     "output_type": "stream",
     "text": [
      "{'n_estimators': [200, 400, 600, 800, 1000, 1200, 1400, 1600, 1800, 2000], 'max_features': ['auto', 'sqrt'], 'max_depth': [10, 20, 30, 40, 50, 60, 70, 80, 90, 100, 110, None], 'min_samples_split': [2, 5, 10], 'min_samples_leaf': [1, 2, 4]}\n"
     ]
    }
   ],
   "source": [
    "n_estimators = [int(x) for x in np.linspace(start = 200, stop = 2000, num = 10)]\n",
    "# Number of features to consider at every split\n",
    "max_features = ['auto', 'sqrt']\n",
    "# Maximum number of levels in tree\n",
    "max_depth = [int(x) for x in np.linspace(10, 110, num = 11)]\n",
    "max_depth.append(None)\n",
    "# Minimum number of samples required to split a node\n",
    "min_samples_split = [2, 5, 10]\n",
    "# Minimum number of samples required at each leaf node\n",
    "min_samples_leaf = [1, 2, 4]\n",
    "\n",
    "\n",
    "\n",
    "# Create the random grid\n",
    "random_grid = {'n_estimators': n_estimators,\n",
    "               'max_features': max_features,\n",
    "               'max_depth': max_depth,\n",
    "               'min_samples_split': min_samples_split,\n",
    "               'min_samples_leaf': min_samples_leaf}\n",
    "print(random_grid)"
   ]
  },
  {
   "cell_type": "code",
   "execution_count": 49,
   "metadata": {},
   "outputs": [],
   "source": [
    "clf_rf = RandomForestClassifier()"
   ]
  },
  {
   "cell_type": "code",
   "execution_count": 50,
   "metadata": {},
   "outputs": [],
   "source": [
    "rf_random = RandomizedSearchCV(estimator = clf_rf, param_distributions = random_grid, n_iter = 100, cv = 3, verbose=2, random_state=42, n_jobs=-1)"
   ]
  },
  {
   "cell_type": "code",
   "execution_count": 51,
   "metadata": {},
   "outputs": [
    {
     "name": "stdout",
     "output_type": "stream",
     "text": [
      "Fitting 3 folds for each of 100 candidates, totalling 300 fits\n"
     ]
    },
    {
     "name": "stderr",
     "output_type": "stream",
     "text": [
      "[Parallel(n_jobs=-1)]: Using backend LokyBackend with 4 concurrent workers.\n",
      "[Parallel(n_jobs=-1)]: Done  33 tasks      | elapsed: 24.6min\n",
      "[Parallel(n_jobs=-1)]: Done 154 tasks      | elapsed: 90.6min\n",
      "[Parallel(n_jobs=-1)]: Done 300 out of 300 | elapsed: 181.3min finished\n"
     ]
    },
    {
     "data": {
      "text/plain": [
       "RandomizedSearchCV(cv=3, error_score='raise-deprecating',\n",
       "                   estimator=RandomForestClassifier(bootstrap=True,\n",
       "                                                    class_weight=None,\n",
       "                                                    criterion='gini',\n",
       "                                                    max_depth=None,\n",
       "                                                    max_features='auto',\n",
       "                                                    max_leaf_nodes=None,\n",
       "                                                    min_impurity_decrease=0.0,\n",
       "                                                    min_impurity_split=None,\n",
       "                                                    min_samples_leaf=1,\n",
       "                                                    min_samples_split=2,\n",
       "                                                    min_weight_fraction_leaf=0.0,\n",
       "                                                    n_estimators='warn',\n",
       "                                                    n_jobs=None,\n",
       "                                                    oob_sc...\n",
       "                   iid='warn', n_iter=100, n_jobs=-1,\n",
       "                   param_distributions={'max_depth': [10, 20, 30, 40, 50, 60,\n",
       "                                                      70, 80, 90, 100, 110,\n",
       "                                                      None],\n",
       "                                        'max_features': ['auto', 'sqrt'],\n",
       "                                        'min_samples_leaf': [1, 2, 4],\n",
       "                                        'min_samples_split': [2, 5, 10],\n",
       "                                        'n_estimators': [200, 400, 600, 800,\n",
       "                                                         1000, 1200, 1400, 1600,\n",
       "                                                         1800, 2000]},\n",
       "                   pre_dispatch='2*n_jobs', random_state=42, refit=True,\n",
       "                   return_train_score=False, scoring=None, verbose=2)"
      ]
     },
     "execution_count": 51,
     "metadata": {},
     "output_type": "execute_result"
    }
   ],
   "source": [
    "rf_random.fit(X_train, y_train)"
   ]
  },
  {
   "cell_type": "code",
   "execution_count": 52,
   "metadata": {},
   "outputs": [],
   "source": [
    "preds_rf = rf_random.predict(X_test)"
   ]
  },
  {
   "cell_type": "code",
   "execution_count": 53,
   "metadata": {},
   "outputs": [
    {
     "data": {
      "text/plain": [
       "array([[22570,   387],\n",
       "       [ 1517,  1293]])"
      ]
     },
     "execution_count": 53,
     "metadata": {},
     "output_type": "execute_result"
    }
   ],
   "source": [
    "metrics.confusion_matrix(y_test, preds_rf)"
   ]
  },
  {
   "cell_type": "code",
   "execution_count": null,
   "metadata": {},
   "outputs": [],
   "source": []
  },
  {
   "cell_type": "code",
   "execution_count": null,
   "metadata": {},
   "outputs": [],
   "source": []
  },
  {
   "cell_type": "markdown",
   "metadata": {},
   "source": [
    "### XGBoost"
   ]
  },
  {
   "cell_type": "code",
   "execution_count": 54,
   "metadata": {},
   "outputs": [],
   "source": [
    "clf = xgb.XGBClassifier()"
   ]
  },
  {
   "cell_type": "code",
   "execution_count": 55,
   "metadata": {},
   "outputs": [],
   "source": [
    "param_grid = {\"learning_rate\"    : [0.05, 0.10, 0.15, 0.20, 0.25, 0.30 ] ,\n",
    " \"max_depth\"        : [ 3, 4, 5, 6, 8, 10, 12, 15],\n",
    " \"min_child_weight\" : [ 1, 3, 5, 7 ],\n",
    " \"gamma\"            : [ 0.0, 0.1, 0.2 , 0.3, 0.4 ],\n",
    " \"colsample_bytree\" : [ 0.3, 0.4, 0.5 , 0.7 ] }"
   ]
  },
  {
   "cell_type": "code",
   "execution_count": null,
   "metadata": {},
   "outputs": [],
   "source": []
  },
  {
   "cell_type": "code",
   "execution_count": 56,
   "metadata": {},
   "outputs": [],
   "source": [
    "xgb_random = RandomizedSearchCV(estimator = clf, param_distributions = param_grid, n_iter = 100, cv = 3, verbose=2, random_state=42, n_jobs=-1)"
   ]
  },
  {
   "cell_type": "code",
   "execution_count": 57,
   "metadata": {},
   "outputs": [
    {
     "name": "stdout",
     "output_type": "stream",
     "text": [
      "Fitting 3 folds for each of 100 candidates, totalling 300 fits\n"
     ]
    },
    {
     "name": "stderr",
     "output_type": "stream",
     "text": [
      "[Parallel(n_jobs=-1)]: Using backend LokyBackend with 4 concurrent workers.\n",
      "[Parallel(n_jobs=-1)]: Done  33 tasks      | elapsed: 10.0min\n",
      "[Parallel(n_jobs=-1)]: Done 154 tasks      | elapsed: 44.5min\n",
      "[Parallel(n_jobs=-1)]: Done 300 out of 300 | elapsed: 89.5min finished\n"
     ]
    },
    {
     "data": {
      "text/plain": [
       "RandomizedSearchCV(cv=3, error_score='raise-deprecating',\n",
       "                   estimator=XGBClassifier(base_score=0.5, booster='gbtree',\n",
       "                                           colsample_bylevel=1,\n",
       "                                           colsample_bynode=1,\n",
       "                                           colsample_bytree=1, gamma=0,\n",
       "                                           learning_rate=0.1, max_delta_step=0,\n",
       "                                           max_depth=3, min_child_weight=1,\n",
       "                                           missing=None, n_estimators=100,\n",
       "                                           n_jobs=1, nthread=None,\n",
       "                                           objective='binary:logistic',\n",
       "                                           random_state=0, reg_alpha=0...\n",
       "                                           seed=None, silent=None, subsample=1,\n",
       "                                           verbosity=1),\n",
       "                   iid='warn', n_iter=100, n_jobs=-1,\n",
       "                   param_distributions={'colsample_bytree': [0.3, 0.4, 0.5,\n",
       "                                                             0.7],\n",
       "                                        'gamma': [0.0, 0.1, 0.2, 0.3, 0.4],\n",
       "                                        'learning_rate': [0.05, 0.1, 0.15, 0.2,\n",
       "                                                          0.25, 0.3],\n",
       "                                        'max_depth': [3, 4, 5, 6, 8, 10, 12,\n",
       "                                                      15],\n",
       "                                        'min_child_weight': [1, 3, 5, 7]},\n",
       "                   pre_dispatch='2*n_jobs', random_state=42, refit=True,\n",
       "                   return_train_score=False, scoring=None, verbose=2)"
      ]
     },
     "execution_count": 57,
     "metadata": {},
     "output_type": "execute_result"
    }
   ],
   "source": [
    "xgb_random.fit(X_train, y_train)"
   ]
  },
  {
   "cell_type": "code",
   "execution_count": 58,
   "metadata": {},
   "outputs": [],
   "source": [
    "pred = xgb_random.predict(X_test)"
   ]
  },
  {
   "cell_type": "code",
   "execution_count": 60,
   "metadata": {},
   "outputs": [
    {
     "data": {
      "text/plain": [
       "{'min_child_weight': 3,\n",
       " 'max_depth': 15,\n",
       " 'learning_rate': 0.1,\n",
       " 'gamma': 0.0,\n",
       " 'colsample_bytree': 0.7}"
      ]
     },
     "execution_count": 60,
     "metadata": {},
     "output_type": "execute_result"
    }
   ],
   "source": [
    "xgb_random.best_params_"
   ]
  },
  {
   "cell_type": "code",
   "execution_count": 62,
   "metadata": {},
   "outputs": [
    {
     "data": {
      "text/plain": [
       "array([[22435,   522],\n",
       "       [ 1241,  1569]])"
      ]
     },
     "execution_count": 62,
     "metadata": {},
     "output_type": "execute_result"
    }
   ],
   "source": [
    "matrix = metrics.confusion_matrix(y_test, pred)\n",
    "matrix"
   ]
  },
  {
   "cell_type": "code",
   "execution_count": 63,
   "metadata": {},
   "outputs": [
    {
     "data": {
      "text/plain": [
       "(25767,)"
      ]
     },
     "execution_count": 63,
     "metadata": {},
     "output_type": "execute_result"
    }
   ],
   "source": [
    "y_test.shape"
   ]
  },
  {
   "cell_type": "code",
   "execution_count": 64,
   "metadata": {},
   "outputs": [],
   "source": [
    "TP = matrix[1,1]\n",
    "TN = matrix[0,0]\n",
    "FP = matrix[0,1]\n",
    "FN = matrix[1,0]"
   ]
  },
  {
   "cell_type": "code",
   "execution_count": 65,
   "metadata": {},
   "outputs": [
    {
     "data": {
      "image/png": "[encoded data removed]",
      "text/plain": [
       "<IPython.core.display.Image object>"
      ]
     },
     "execution_count": 65,
     "metadata": {
      "image/png": {
       "height": 500,
       "width": 500
      }
     },
     "output_type": "execute_result"
    }
   ],
   "source": [
    "Image(filename= \"/Users/azarnajafli/Pictures/Screenshots/Screen Shot 2020-05-11 at 2.02.16 AM.png\", width = 500, height = 500)"
   ]
  },
  {
   "cell_type": "code",
   "execution_count": 66,
   "metadata": {},
   "outputs": [
    {
     "name": "stdout",
     "output_type": "stream",
     "text": [
      "0.7503586800573888\n"
     ]
    }
   ],
   "source": [
    "precision = metrics.precision_score(y_test, pred)\n",
    "print(precision)"
   ]
  },
  {
   "cell_type": "code",
   "execution_count": 67,
   "metadata": {},
   "outputs": [
    {
     "name": "stdout",
     "output_type": "stream",
     "text": [
      "0.9772618373480856\n"
     ]
    }
   ],
   "source": [
    "specifity = TN/(TN + FP)\n",
    "print(specifity)"
   ]
  },
  {
   "cell_type": "code",
   "execution_count": 68,
   "metadata": {},
   "outputs": [
    {
     "name": "stdout",
     "output_type": "stream",
     "text": [
      "0.5583629893238434\n"
     ]
    }
   ],
   "source": [
    "recall = metrics.recall_score(y_test, pred)\n",
    "print(recall)"
   ]
  },
  {
   "cell_type": "code",
   "execution_count": 69,
   "metadata": {},
   "outputs": [],
   "source": [
    "y_pred_prob = xgb_random.predict_proba(X_test)[:, 1]"
   ]
  },
  {
   "cell_type": "code",
   "execution_count": 70,
   "metadata": {},
   "outputs": [
    {
     "data": {
      "image/png": "[encoded data removed]",
      "text/plain": [
       "<Figure size 576x576 with 1 Axes>"
      ]
     },
     "metadata": {},
     "output_type": "display_data"
    }
   ],
   "source": [
    "plt.figure(figsize = (8,8))\n",
    "\n",
    "fpr, tpr, threshold = metrics.roc_curve(y_test, pred)\n",
    "roc_auc = metrics.auc(fpr, tpr)\n",
    "plt.title('Receiver Operating Characteristic')\n",
    "plt.plot(fpr, tpr, 'b', label = 'AUC = %0.2f' % roc_auc)\n",
    "plt.legend(loc = 'lower right')\n",
    "plt.plot([0, 1], [0, 1],'r--')\n",
    "plt.xlim([0, 1])\n",
    "plt.ylim([0, 1])\n",
    "plt.ylabel('True Positive Rate')\n",
    "plt.xlabel('False Positive Rate')\n",
    "plt.show()"
   ]
  },
  {
   "cell_type": "code",
   "execution_count": null,
   "metadata": {},
   "outputs": [],
   "source": []
  },
  {
   "cell_type": "code",
   "execution_count": 71,
   "metadata": {},
   "outputs": [
    {
     "data": {
      "text/plain": [
       "(0, 1)"
      ]
     },
     "execution_count": 71,
     "metadata": {},
     "output_type": "execute_result"
    },
    {
     "data": {
      "image/png": "[encoded data removed]",
      "text/plain": [
       "<Figure size 576x576 with 1 Axes>"
      ]
     },
     "metadata": {},
     "output_type": "display_data"
    }
   ],
   "source": [
    "plt.figure(figsize = (8, 8))\n",
    "\n",
    "probs_y=xgb_random.predict_proba(X_test) \n",
    "\n",
    "from sklearn.metrics import precision_recall_curve\n",
    "precision, recall, thresholds = precision_recall_curve(y_test, probs_y[:, \n",
    "1]) \n",
    "\n",
    "pr_auc = metrics.auc(recall, precision)\n",
    "\n",
    "plt.title(\"Precision-Recall vs Threshold Chart\")\n",
    "plt.plot(thresholds, precision[: -1], \"b--\", label=\"Precision\")\n",
    "plt.plot(thresholds, recall[: -1], \"r--\", label=\"Recall\")\n",
    "plt.ylabel(\"Precision, Recall\")\n",
    "plt.xlabel(\"Threshold\")\n",
    "plt.legend(loc=\"lower left\")\n",
    "plt.ylim([0,1])"
   ]
  },
  {
   "cell_type": "code",
   "execution_count": 72,
   "metadata": {},
   "outputs": [
    {
     "data": {
      "text/plain": [
       "array([2.4881938e-01, 6.0979003e-01, 5.3543644e-04, ..., 4.7563221e-02,\n",
       "       4.1708133e-01, 1.5621992e-04], dtype=float32)"
      ]
     },
     "execution_count": 72,
     "metadata": {},
     "output_type": "execute_result"
    }
   ],
   "source": [
    "y_pred_prob"
   ]
  },
  {
   "cell_type": "code",
   "execution_count": 73,
   "metadata": {},
   "outputs": [],
   "source": [
    "y_pred_prob = y_pred_prob.reshape(-1, 1)"
   ]
  },
  {
   "cell_type": "code",
   "execution_count": 74,
   "metadata": {},
   "outputs": [],
   "source": [
    "y_pred_class = binarize(y_pred_prob, 0.3)"
   ]
  },
  {
   "cell_type": "code",
   "execution_count": null,
   "metadata": {},
   "outputs": [],
   "source": []
  },
  {
   "cell_type": "code",
   "execution_count": 75,
   "metadata": {},
   "outputs": [
    {
     "data": {
      "text/plain": [
       "array([[0.],\n",
       "       [1.],\n",
       "       [0.],\n",
       "       ...,\n",
       "       [0.],\n",
       "       [1.],\n",
       "       [0.]], dtype=float32)"
      ]
     },
     "execution_count": 75,
     "metadata": {},
     "output_type": "execute_result"
    }
   ],
   "source": [
    "y_pred_class"
   ]
  },
  {
   "cell_type": "code",
   "execution_count": 76,
   "metadata": {},
   "outputs": [
    {
     "data": {
      "text/plain": [
       "array([[21844,  1113],\n",
       "       [  838,  1972]])"
      ]
     },
     "execution_count": 76,
     "metadata": {},
     "output_type": "execute_result"
    }
   ],
   "source": [
    "metrics.confusion_matrix(y_test, y_pred_class)"
   ]
  },
  {
   "cell_type": "code",
   "execution_count": 77,
   "metadata": {},
   "outputs": [
    {
     "data": {
      "text/plain": [
       "0.701779359430605"
      ]
     },
     "execution_count": 77,
     "metadata": {},
     "output_type": "execute_result"
    }
   ],
   "source": [
    "metrics.recall_score(y_test, y_pred_class)"
   ]
  },
  {
   "cell_type": "code",
   "execution_count": 78,
   "metadata": {},
   "outputs": [
    {
     "data": {
      "text/plain": [
       "0.6392220421393842"
      ]
     },
     "execution_count": 78,
     "metadata": {},
     "output_type": "execute_result"
    }
   ],
   "source": [
    "metrics.precision_score(y_test, y_pred_class)"
   ]
  },
  {
   "cell_type": "code",
   "execution_count": null,
   "metadata": {},
   "outputs": [],
   "source": []
  },
  {
   "cell_type": "code",
   "execution_count": null,
   "metadata": {},
   "outputs": [],
   "source": []
  },
  {
   "cell_type": "code",
   "execution_count": null,
   "metadata": {},
   "outputs": [],
   "source": []
  },
  {
   "cell_type": "code",
   "execution_count": null,
   "metadata": {},
   "outputs": [],
   "source": []
  }
 ],
 "metadata": {
  "kernelspec": {
   "display_name": "Python 3",
   "language": "python",
   "name": "python3"
  },
  "language_info": {
   "codemirror_mode": {
    "name": "ipython",
    "version": 3
   },
   "file_extension": ".py",
   "mimetype": "text/x-python",
   "name": "python",
   "nbconvert_exporter": "python",
   "pygments_lexer": "ipython3",
   "version": "3.7.3"
  }
 },
 "nbformat": 4,
 "nbformat_minor": 2
}
